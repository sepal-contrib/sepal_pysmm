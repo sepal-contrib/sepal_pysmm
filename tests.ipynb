{
 "cells": [
  {
   "cell_type": "code",
   "execution_count": 3,
   "metadata": {},
   "outputs": [],
   "source": [
    "from pathlib import Path\n",
    "Path(\"tests/shp/\").mkdir(parents=True, exist_ok=True)"
   ]
  },
  {
   "cell_type": "code",
   "execution_count": 8,
   "metadata": {},
   "outputs": [],
   "source": [
    "import geopandas as gpd\n",
    "from shapely.geometry import Point, Polygon\n",
    "from pyproj import CRS\n",
    "from shapely.affinity import scale\n",
    "\n",
    "# Define the CRS for the data\n",
    "crs = CRS.from_epsg(4326)\n",
    "\n",
    "# Define the coordinates of a point inside Risaralda, Colombia\n",
    "point = Point(-75.694527, 4.816461)\n",
    "\n",
    "# Define the buffer size in meters to create a circular buffer around the point\n",
    "buffer_size = 0.0005\n",
    "\n",
    "# Create a circular buffer around the point with a radius of buffer_size\n",
    "buffer = point.buffer(buffer_size)\n",
    "\n",
    "# Define the area in square meters that the polygon should have\n",
    "target_area = 2000\n",
    "\n",
    "# Calculate the scaling factor required to achieve the target area\n",
    "scaling_factor = (target_area / buffer.area) ** 0.5\n",
    "\n",
    "# Scale the buffer to achieve the target area\n",
    "polygon = scale(buffer, xfact=scaling_factor, yfact=scaling_factor)\n",
    "\n",
    "# Create a GeoDataFrame from the polygon\n",
    "gdf = gpd.GeoDataFrame(geometry=[polygon], crs=crs)\n",
    "\n",
    "# Save the GeoDataFrame to a file\n",
    "gdf.to_file('risaralda_polygon.shp', driver='ESRI Shapefile')"
   ]
  },
  {
   "cell_type": "code",
   "execution_count": null,
   "metadata": {},
   "outputs": [],
   "source": []
  }
 ],
 "metadata": {
  "kernelspec": {
   "display_name": "Python 3",
   "language": "python",
   "name": "python3"
  },
  "language_info": {
   "codemirror_mode": {
    "name": "ipython",
    "version": 3
   },
   "file_extension": ".py",
   "mimetype": "text/x-python",
   "name": "python",
   "nbconvert_exporter": "python",
   "pygments_lexer": "ipython3",
   "version": "3.10.6"
  },
  "orig_nbformat": 4,
  "vscode": {
   "interpreter": {
    "hash": "916dbcbb3f70747c44a77c7bcd40155683ae19c65e1c03b4aa3499c5328201f1"
   }
  }
 },
 "nbformat": 4,
 "nbformat_minor": 2
}
