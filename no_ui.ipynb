{
 "cells": [
  {
   "cell_type": "code",
   "execution_count": 1,
   "id": "3730eedc-4b29-46c5-a68b-ca174d8a9aa0",
   "metadata": {
    "tags": []
   },
   "outputs": [
    {
     "data": {
      "application/vnd.jupyter.widget-view+json": {
       "model_id": "7e99884a6a9149b58aaca27754dfa6f7",
       "version_major": 2,
       "version_minor": 0
      },
      "text/plain": [
       "Styles()"
      ]
     },
     "metadata": {},
     "output_type": "display_data"
    },
    {
     "data": {
      "application/vnd.jupyter.widget-view+json": {
       "model_id": "890c42bf12f94a61b51eba15ae23b581",
       "version_major": 2,
       "version_minor": 0
      },
      "text/plain": [
       "ResizeTrigger(template=\"\\n            <script>\\n                {methods: {\\n                    jupyter_resiz…"
      ]
     },
     "metadata": {},
     "output_type": "display_data"
    }
   ],
   "source": [
    "from importlib import reload\n",
    "\n",
    "\n",
    "import component.tiles.process_tile as pt\n",
    "import component.tiles.download_tile as dt\n",
    "import component.tiles.filter_tile as ft\n",
    "import component.tiles.statistics_tile as st"
   ]
  },
  {
   "cell_type": "code",
   "execution_count": 2,
   "id": "b5e9de75-aee4-47ee-98e1-9bfb2fcf5af6",
   "metadata": {},
   "outputs": [],
   "source": [
    "pt=reload(pt)\n",
    "dt=reload(dt)\n",
    "ft=reload(ft)\n",
    "st=reload(st)"
   ]
  },
  {
   "cell_type": "code",
   "execution_count": 3,
   "id": "0c64ca5d-27f9-4c12-8370-9d16a15eb5cf",
   "metadata": {},
   "outputs": [],
   "source": [
    "process_tile = pt.ProcessTile()"
   ]
  },
  {
   "cell_type": "code",
   "execution_count": 4,
   "id": "a62c1118-4da9-4113-83c5-c91ce59ea9cd",
   "metadata": {},
   "outputs": [],
   "source": [
    "download_tile = dt.DownloadTile()"
   ]
  },
  {
   "cell_type": "code",
   "execution_count": 5,
   "id": "5a238c24-fda3-43ac-aa55-f4e1638241dc",
   "metadata": {},
   "outputs": [],
   "source": [
    "filter_tile = ft.FilterTile()"
   ]
  },
  {
   "cell_type": "code",
   "execution_count": 6,
   "id": "a20a48a9-5c6a-44db-86e6-a157ef17b6df",
   "metadata": {},
   "outputs": [],
   "source": [
    "statistic_tile = st.StatisticsTile()"
   ]
  },
  {
   "cell_type": "code",
   "execution_count": 7,
   "id": "d39d1671-429e-4120-9d92-2aca3ce8d638",
   "metadata": {},
   "outputs": [
    {
     "data": {
      "application/vnd.jupyter.widget-view+json": {
       "model_id": "ebc53824d9764c7da229841190d82b90",
       "version_major": 2,
       "version_minor": 0
      },
      "text/plain": [
       "ProcessTile(children=[StepperHeader(children=[StepperStep(children=['Introduction'], complete=False, editable=…"
      ]
     },
     "metadata": {},
     "output_type": "display_data"
    }
   ],
   "source": [
    "process_tile"
   ]
  },
  {
   "cell_type": "code",
   "execution_count": 8,
   "id": "556e6f3d-cc01-4a31-b133-db6d3d650740",
   "metadata": {},
   "outputs": [
    {
     "data": {
      "application/vnd.jupyter.widget-view+json": {
       "model_id": "fac1dc32df854316845c65be3a310e90",
       "version_major": 2,
       "version_minor": 0
      },
      "text/plain": [
       "DownloadTile(children=[Card(children=[CardTitle(children=['Download']), CardText(children=[Markdown(align_cent…"
      ]
     },
     "metadata": {},
     "output_type": "display_data"
    }
   ],
   "source": [
    "download_tile"
   ]
  },
  {
   "cell_type": "code",
   "execution_count": 9,
   "id": "7d57b636-0c91-4cd6-9dfe-a07f0fd149bb",
   "metadata": {},
   "outputs": [
    {
     "data": {
      "application/vnd.jupyter.widget-view+json": {
       "model_id": "ba22a16566b948028993ea2f5b21459c",
       "version_major": 2,
       "version_minor": 0
      },
      "text/plain": [
       "FilterTile(children=[Card(children=[CardTitle(children=[Markdown(align_center=True, children=[Flex(children=[M…"
      ]
     },
     "metadata": {},
     "output_type": "display_data"
    }
   ],
   "source": [
    "filter_tile"
   ]
  },
  {
   "cell_type": "code",
   "execution_count": 10,
   "id": "09b97aa1-64fa-403a-ab8d-5db56c2b3ed2",
   "metadata": {},
   "outputs": [
    {
     "data": {
      "application/vnd.jupyter.widget-view+json": {
       "model_id": "77aeed94f4ee4225ad197fc23e79290b",
       "version_major": 2,
       "version_minor": 0
      },
      "text/plain": [
       "StatisticsTile(children=[Card(children=[CardTitle(children=[Markdown(align_center=True, children=[Flex(childre…"
      ]
     },
     "metadata": {},
     "output_type": "display_data"
    }
   ],
   "source": [
    "statistic_tile"
   ]
  }
 ],
 "metadata": {
  "kernelspec": {
   "display_name": "Python 3",
   "language": "python",
   "name": "python3"
  },
  "language_info": {
   "codemirror_mode": {
    "name": "ipython",
    "version": 3
   },
   "file_extension": ".py",
   "mimetype": "text/x-python",
   "name": "python",
   "nbconvert_exporter": "python",
   "pygments_lexer": "ipython3",
   "version": "3.8.10"
  }
 },
 "nbformat": 4,
 "nbformat_minor": 5
}
