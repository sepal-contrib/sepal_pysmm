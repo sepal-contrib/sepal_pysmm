{
 "cells": [
  {
   "cell_type": "code",
   "execution_count": null,
   "id": "52abd61d-f19c-4a21-bbdc-903347b09935",
   "metadata": {},
   "outputs": [],
   "source": [
    "%load_ext autoreload\n",
    "%autoreload 2"
   ]
  },
  {
   "cell_type": "code",
   "execution_count": null,
   "id": "53e2a1c3-4d3d-41d3-9463-7a44a9538ba0",
   "metadata": {},
   "outputs": [],
   "source": [
    "import component.tiles.download_tile as dt"
   ]
  },
  {
   "cell_type": "code",
   "execution_count": null,
   "id": "3730eedc-4b29-46c5-a68b-ca174d8a9aa0",
   "metadata": {
    "tags": []
   },
   "outputs": [],
   "source": [
    "from importlib import reload\n",
    "\n",
    "from component.model import Model\n",
    "\n",
    "import component.tiles.process_tile as pt\n",
    "import component.tiles.download_tile as dt\n",
    "import component.tiles.filter_tile as ft\n",
    "import component.tiles.statistics_tile as st"
   ]
  },
  {
   "cell_type": "code",
   "execution_count": null,
   "id": "8da9e443-a5e0-43e3-869c-c8913c607954",
   "metadata": {},
   "outputs": [],
   "source": [
    "model = Model()"
   ]
  },
  {
   "cell_type": "code",
   "execution_count": null,
   "id": "0c64ca5d-27f9-4c12-8370-9d16a15eb5cf",
   "metadata": {},
   "outputs": [],
   "source": [
    "process_tile = pt.ProcessTile(model=model)"
   ]
  },
  {
   "cell_type": "code",
   "execution_count": null,
   "id": "06dc55dd-962c-4da9-9d5f-b459fd9a3add",
   "metadata": {},
   "outputs": [],
   "source": [
    "process_tile"
   ]
  },
  {
   "cell_type": "code",
   "execution_count": null,
   "id": "5a238c24-fda3-43ac-aa55-f4e1638241dc",
   "metadata": {},
   "outputs": [],
   "source": [
    "filter_tile = ft.FilterTile()"
   ]
  },
  {
   "cell_type": "code",
   "execution_count": null,
   "id": "a20a48a9-5c6a-44db-86e6-a157ef17b6df",
   "metadata": {},
   "outputs": [],
   "source": [
    "statistic_tile = st.StatisticsTile(model=model)"
   ]
  },
  {
   "cell_type": "code",
   "execution_count": null,
   "id": "d39d1671-429e-4120-9d92-2aca3ce8d638",
   "metadata": {},
   "outputs": [],
   "source": [
    "# process_tile"
   ]
  },
  {
   "cell_type": "code",
   "execution_count": null,
   "id": "a62c1118-4da9-4113-83c5-c91ce59ea9cd",
   "metadata": {},
   "outputs": [],
   "source": [
    "download_tile = dt.DownloadTile()"
   ]
  },
  {
   "cell_type": "code",
   "execution_count": null,
   "id": "556e6f3d-cc01-4a31-b133-db6d3d650740",
   "metadata": {},
   "outputs": [],
   "source": [
    "download_tile"
   ]
  },
  {
   "cell_type": "code",
   "execution_count": null,
   "id": "7d57b636-0c91-4cd6-9dfe-a07f0fd149bb",
   "metadata": {},
   "outputs": [],
   "source": [
    "filter_tile"
   ]
  },
  {
   "cell_type": "code",
   "execution_count": null,
   "id": "09b97aa1-64fa-403a-ab8d-5db56c2b3ed2",
   "metadata": {},
   "outputs": [],
   "source": [
    "statistic_tile"
   ]
  }
 ],
 "metadata": {
  "kernelspec": {
   "display_name": " (venv) Soil Moisture Mapping",
   "language": "python",
   "name": "venv-sepal_pysmm"
  },
  "language_info": {
   "codemirror_mode": {
    "name": "ipython",
    "version": 3
   },
   "file_extension": ".py",
   "mimetype": "text/x-python",
   "name": "python",
   "nbconvert_exporter": "python",
   "pygments_lexer": "ipython3",
   "version": "3.10.12"
  }
 },
 "nbformat": 4,
 "nbformat_minor": 5
}
