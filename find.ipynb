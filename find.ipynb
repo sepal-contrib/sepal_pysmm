{
 "cells": [
  {
   "cell_type": "code",
   "execution_count": 96,
   "metadata": {},
   "outputs": [],
   "source": [
    "import ast\n",
    "import re\n",
    "from collections import defaultdict\n",
    "from pathlib import Path"
   ]
  },
  {
   "cell_type": "code",
   "execution_count": 97,
   "metadata": {},
   "outputs": [],
   "source": [
    "def replace_strings_in_module(module_ast, replacements):\n",
    "    \"\"\"Replace strings in a module with new values.\"\"\"\n",
    "\n",
    "    # Define a class to replace string nodes\n",
    "    class StringReplacer(ast.NodeTransformer):\n",
    "        def visit_Str(self, node):\n",
    "            if node.s in replacements:\n",
    "                node.s = replacements[node.s]\n",
    "            return node\n",
    "\n",
    "    # Traverse the AST and replace string nodes\n",
    "    module_ast = StringReplacer().visit(module_ast)\n",
    "\n",
    "    # Convert the AST back into code\n",
    "    unparsed = ast.unparse(module_ast)\n",
    "\n",
    "    # save the file adding \"replace\" to the name of the input file\n",
    "    output_file = file_path.with_name(f\"{p.stem}_replaced.py\")\n",
    "    with open(output_file, \"w\") as f:\n",
    "        f.write(unparsed)"
   ]
  },
  {
   "cell_type": "code",
   "execution_count": 196,
   "metadata": {},
   "outputs": [],
   "source": [
    "def extract_strings_from_module(module_path):\n",
    "    \"\"\"Extract all string literals from a module.\"\"\"\n",
    "    \n",
    "    module_ast = ast.parse(module_path.read_text())\n",
    "\n",
    "    def collect_strings(node):\n",
    "\n",
    "        if isinstance(node, list):\n",
    "            return [node]\n",
    "\n",
    "        if isinstance(node, ast.Str) and not isinstance(node, ast.Expr):\n",
    "            # If the node is a string literal, add its value to the list of strings\n",
    "            return [{\"KYE_TO_REPLACE\":node.s}]\n",
    "        \n",
    "        elif isinstance(node, ast.JoinedStr):\n",
    "            # If the node is a JoinedStr, join its values to get the whole string\n",
    "            whole_string = ''\n",
    "            for value in node.values:\n",
    "                if isinstance(value, ast.Str):\n",
    "                    whole_string += value.s\n",
    "                elif isinstance(value, ast.FormattedValue):\n",
    "                    value_strings = collect_strings(value.value)\n",
    "                    if value_strings:\n",
    "                        whole_string += '{' + value_strings[0] + '}'\n",
    "                    else:\n",
    "                        whole_string += '{}'\n",
    "            return [whole_string]\n",
    "\n",
    "        else:\n",
    "            # Otherwise, recursively collect the string nodes from the node's children\n",
    "            return sum((collect_strings(child) for child in ast.iter_child_nodes(node)), [])\n",
    "\n",
    "    # Traverse the AST and collect all the string nodes\n",
    "    strings = collect_strings(module_ast)\n",
    "\n",
    "    return strings\n"
   ]
  },
  {
   "cell_type": "code",
   "execution_count": 197,
   "metadata": {},
   "outputs": [],
   "source": [
    "def find_strings_in_folder(folder_path, output_path):\n",
    "    \"\"\"Find all string literals in all Python files in a folder.\"\"\"\n",
    "    \n",
    "    string_dict = defaultdict(list)\n",
    "\n",
    "    for py_file in Path(folder_path).rglob('*.py'):\n",
    "        if any(\n",
    "            [\n",
    "                py_file.name.startswith('.'),\n",
    "                '/.' in str(py_file),\n",
    "                py_file.name.startswith('__'),\n",
    "                \"stackcomposed\" in py_file.parts,\n",
    "            ]\n",
    "        ):\n",
    "            continue\n",
    "        \n",
    "        # Find all the string literals in the file\n",
    "        strings = extract_strings_from_module(py_file)\n",
    "\n",
    "        # Add the strings to the dictionary with the file name as key\n",
    "        for s in strings:\n",
    "            string_dict[py_file.name].append(s)\n",
    "\n",
    "    with open(output_path, 'w') as f:\n",
    "        for key, value in string_dict.items():\n",
    "            f.write(f\"{key}:\\n\")\n",
    "            for string in value:\n",
    "                f.write(f\"\\t{string}\\n\")"
   ]
  },
  {
   "cell_type": "code",
   "execution_count": 198,
   "metadata": {},
   "outputs": [],
   "source": [
    "p = Path(\"/home/dguerrero/1_modules/sepal_pysmm/component/widget/custom_drawer.py\")\n",
    "output_path = Path(\"/home/dguerrero/1_modules/sepal_pysmm/keys.txt\")"
   ]
  },
  {
   "cell_type": "code",
   "execution_count": 199,
   "metadata": {},
   "outputs": [
    {
     "ename": "TypeError",
     "evalue": "can only concatenate str (not \"dict\") to str",
     "output_type": "error",
     "traceback": [
      "\u001b[0;31m---------------------------------------------------------------------------\u001b[0m",
      "\u001b[0;31mTypeError\u001b[0m                                 Traceback (most recent call last)",
      "Cell \u001b[0;32mIn[199], line 1\u001b[0m\n\u001b[0;32m----> 1\u001b[0m find_strings_in_folder(\u001b[39m\"\u001b[39;49m\u001b[39m/home/dguerrero/1_modules/sepal_pysmm/\u001b[39;49m\u001b[39m\"\u001b[39;49m, output_path)\n",
      "Cell \u001b[0;32mIn[197], line 18\u001b[0m, in \u001b[0;36mfind_strings_in_folder\u001b[0;34m(folder_path, output_path)\u001b[0m\n\u001b[1;32m     15\u001b[0m     \u001b[39mcontinue\u001b[39;00m\n\u001b[1;32m     17\u001b[0m \u001b[39m# Find all the string literals in the file\u001b[39;00m\n\u001b[0;32m---> 18\u001b[0m strings \u001b[39m=\u001b[39m extract_strings_from_module(py_file)\n\u001b[1;32m     20\u001b[0m \u001b[39m# Add the strings to the dictionary with the file name as key\u001b[39;00m\n\u001b[1;32m     21\u001b[0m \u001b[39mfor\u001b[39;00m s \u001b[39min\u001b[39;00m strings:\n",
      "Cell \u001b[0;32mIn[196], line 34\u001b[0m, in \u001b[0;36mextract_strings_from_module\u001b[0;34m(module_path)\u001b[0m\n\u001b[1;32m     31\u001b[0m         \u001b[39mreturn\u001b[39;00m \u001b[39msum\u001b[39m((collect_strings(child) \u001b[39mfor\u001b[39;00m child \u001b[39min\u001b[39;00m ast\u001b[39m.\u001b[39miter_child_nodes(node)), [])\n\u001b[1;32m     33\u001b[0m \u001b[39m# Traverse the AST and collect all the string nodes\u001b[39;00m\n\u001b[0;32m---> 34\u001b[0m strings \u001b[39m=\u001b[39m collect_strings(module_ast)\n\u001b[1;32m     36\u001b[0m \u001b[39mreturn\u001b[39;00m strings\n",
      "Cell \u001b[0;32mIn[196], line 31\u001b[0m, in \u001b[0;36mextract_strings_from_module.<locals>.collect_strings\u001b[0;34m(node)\u001b[0m\n\u001b[1;32m     27\u001b[0m     \u001b[39mreturn\u001b[39;00m [whole_string]\n\u001b[1;32m     29\u001b[0m \u001b[39melse\u001b[39;00m:\n\u001b[1;32m     30\u001b[0m     \u001b[39m# Otherwise, recursively collect the string nodes from the node's children\u001b[39;00m\n\u001b[0;32m---> 31\u001b[0m     \u001b[39mreturn\u001b[39;00m \u001b[39msum\u001b[39;49m((collect_strings(child) \u001b[39mfor\u001b[39;49;00m child \u001b[39min\u001b[39;49;00m ast\u001b[39m.\u001b[39;49miter_child_nodes(node)), [])\n",
      "Cell \u001b[0;32mIn[196], line 31\u001b[0m, in \u001b[0;36m<genexpr>\u001b[0;34m(.0)\u001b[0m\n\u001b[1;32m     27\u001b[0m     \u001b[39mreturn\u001b[39;00m [whole_string]\n\u001b[1;32m     29\u001b[0m \u001b[39melse\u001b[39;00m:\n\u001b[1;32m     30\u001b[0m     \u001b[39m# Otherwise, recursively collect the string nodes from the node's children\u001b[39;00m\n\u001b[0;32m---> 31\u001b[0m     \u001b[39mreturn\u001b[39;00m \u001b[39msum\u001b[39m((collect_strings(child) \u001b[39mfor\u001b[39;00m child \u001b[39min\u001b[39;00m ast\u001b[39m.\u001b[39miter_child_nodes(node)), [])\n",
      "Cell \u001b[0;32mIn[196], line 31\u001b[0m, in \u001b[0;36mextract_strings_from_module.<locals>.collect_strings\u001b[0;34m(node)\u001b[0m\n\u001b[1;32m     27\u001b[0m     \u001b[39mreturn\u001b[39;00m [whole_string]\n\u001b[1;32m     29\u001b[0m \u001b[39melse\u001b[39;00m:\n\u001b[1;32m     30\u001b[0m     \u001b[39m# Otherwise, recursively collect the string nodes from the node's children\u001b[39;00m\n\u001b[0;32m---> 31\u001b[0m     \u001b[39mreturn\u001b[39;00m \u001b[39msum\u001b[39;49m((collect_strings(child) \u001b[39mfor\u001b[39;49;00m child \u001b[39min\u001b[39;49;00m ast\u001b[39m.\u001b[39;49miter_child_nodes(node)), [])\n",
      "Cell \u001b[0;32mIn[196], line 31\u001b[0m, in \u001b[0;36m<genexpr>\u001b[0;34m(.0)\u001b[0m\n\u001b[1;32m     27\u001b[0m     \u001b[39mreturn\u001b[39;00m [whole_string]\n\u001b[1;32m     29\u001b[0m \u001b[39melse\u001b[39;00m:\n\u001b[1;32m     30\u001b[0m     \u001b[39m# Otherwise, recursively collect the string nodes from the node's children\u001b[39;00m\n\u001b[0;32m---> 31\u001b[0m     \u001b[39mreturn\u001b[39;00m \u001b[39msum\u001b[39m((collect_strings(child) \u001b[39mfor\u001b[39;00m child \u001b[39min\u001b[39;00m ast\u001b[39m.\u001b[39miter_child_nodes(node)), [])\n",
      "    \u001b[0;31m[... skipping similar frames: <genexpr> at line 31 (5 times), extract_strings_from_module.<locals>.collect_strings at line 31 (5 times)]\u001b[0m\n",
      "Cell \u001b[0;32mIn[196], line 31\u001b[0m, in \u001b[0;36mextract_strings_from_module.<locals>.collect_strings\u001b[0;34m(node)\u001b[0m\n\u001b[1;32m     27\u001b[0m     \u001b[39mreturn\u001b[39;00m [whole_string]\n\u001b[1;32m     29\u001b[0m \u001b[39melse\u001b[39;00m:\n\u001b[1;32m     30\u001b[0m     \u001b[39m# Otherwise, recursively collect the string nodes from the node's children\u001b[39;00m\n\u001b[0;32m---> 31\u001b[0m     \u001b[39mreturn\u001b[39;00m \u001b[39msum\u001b[39;49m((collect_strings(child) \u001b[39mfor\u001b[39;49;00m child \u001b[39min\u001b[39;49;00m ast\u001b[39m.\u001b[39;49miter_child_nodes(node)), [])\n",
      "Cell \u001b[0;32mIn[196], line 31\u001b[0m, in \u001b[0;36m<genexpr>\u001b[0;34m(.0)\u001b[0m\n\u001b[1;32m     27\u001b[0m     \u001b[39mreturn\u001b[39;00m [whole_string]\n\u001b[1;32m     29\u001b[0m \u001b[39melse\u001b[39;00m:\n\u001b[1;32m     30\u001b[0m     \u001b[39m# Otherwise, recursively collect the string nodes from the node's children\u001b[39;00m\n\u001b[0;32m---> 31\u001b[0m     \u001b[39mreturn\u001b[39;00m \u001b[39msum\u001b[39m((collect_strings(child) \u001b[39mfor\u001b[39;00m child \u001b[39min\u001b[39;00m ast\u001b[39m.\u001b[39miter_child_nodes(node)), [])\n",
      "Cell \u001b[0;32mIn[196], line 24\u001b[0m, in \u001b[0;36mextract_strings_from_module.<locals>.collect_strings\u001b[0;34m(node)\u001b[0m\n\u001b[1;32m     22\u001b[0m value_strings \u001b[39m=\u001b[39m collect_strings(value\u001b[39m.\u001b[39mvalue)\n\u001b[1;32m     23\u001b[0m \u001b[39mif\u001b[39;00m value_strings:\n\u001b[0;32m---> 24\u001b[0m     whole_string \u001b[39m+\u001b[39m\u001b[39m=\u001b[39m \u001b[39m'\u001b[39;49m\u001b[39m{\u001b[39;49m\u001b[39m'\u001b[39;49m \u001b[39m+\u001b[39;49m value_strings[\u001b[39m0\u001b[39;49m] \u001b[39m+\u001b[39m \u001b[39m'\u001b[39m\u001b[39m}\u001b[39m\u001b[39m'\u001b[39m\n\u001b[1;32m     25\u001b[0m \u001b[39melse\u001b[39;00m:\n\u001b[1;32m     26\u001b[0m     whole_string \u001b[39m+\u001b[39m\u001b[39m=\u001b[39m \u001b[39m'\u001b[39m\u001b[39m{}\u001b[39;00m\u001b[39m'\u001b[39m\n",
      "\u001b[0;31mTypeError\u001b[0m: can only concatenate str (not \"dict\") to str"
     ]
    }
   ],
   "source": [
    "find_strings_in_folder(\"/home/dguerrero/1_modules/sepal_pysmm/\", output_path)"
   ]
  },
  {
   "cell_type": "code",
   "execution_count": 132,
   "metadata": {},
   "outputs": [],
   "source": [
    "# replacements = {\n",
    "#     '\\n        Display the apropriate tiles when the item is clicked.\\n        \\n        The tile to display will be all tile in the list with the mount_id as the current object.\\n\\n        Args:\\n        ----\\n            tiles ([sw.Tile]) : the list of all the available tiles in the app\\n\\n        Return:\\n        ------\\n            self\\n        ': \"name_x\"\n",
    "# }\n",
    "# module_ast = ast.parse(p.read_text())\n",
    "\n",
    "# replace_strings_in_module(p.read_text(), replacements)\n"
   ]
  }
 ],
 "metadata": {
  "kernelspec": {
   "display_name": "Python 3",
   "language": "python",
   "name": "python3"
  },
  "language_info": {
   "codemirror_mode": {
    "name": "ipython",
    "version": 3
   },
   "file_extension": ".py",
   "mimetype": "text/x-python",
   "name": "python",
   "nbconvert_exporter": "python",
   "pygments_lexer": "ipython3",
   "version": "3.10.6"
  },
  "orig_nbformat": 4,
  "vscode": {
   "interpreter": {
    "hash": "916dbcbb3f70747c44a77c7bcd40155683ae19c65e1c03b4aa3499c5328201f1"
   }
  }
 },
 "nbformat": 4,
 "nbformat_minor": 2
}
