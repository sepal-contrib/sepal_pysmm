{
 "cells": [
  {
   "cell_type": "code",
   "execution_count": 1,
   "id": "53b7b30c-7446-4696-aba2-cf0861427cfe",
   "metadata": {
    "tags": []
   },
   "outputs": [],
   "source": [
    "%load_ext autoreload\n",
    "%autoreload 2"
   ]
  },
  {
   "cell_type": "code",
   "execution_count": 2,
   "id": "486e0b16-9fef-492f-9b46-a2395d3ea19b",
   "metadata": {
    "tags": []
   },
   "outputs": [
    {
     "data": {
      "text/html": [
       "<style>/*******************************************************************************\n",
       " * Customization of the provided css from the different libs used by sepal_ui\n",
       " */\n",
       "\n",
       "/* replace the map panel elements on top */\n",
       ".leaflet-pane,\n",
       ".leaflet-top,\n",
       ".leaflet-bottom {\n",
       "  z-index: 2 !important;\n",
       "}\n",
       "\n",
       "/* remove the shadow from the widgets on the maps */\n",
       ".leaflet-widgetcontrol {\n",
       "  box-shadow: none;\n",
       "}\n",
       "\n",
       "/* remove extra padding on top of the content */\n",
       "main.v-content {\n",
       "  padding-top: 0px !important;\n",
       "}\n",
       "\n",
       "/* remove all the backgrounds from the controls and widget to be colored naturelly by the map */\n",
       ".leaflet-control-container .vuetify-styles .v-application {\n",
       "  background: rgb(0, 0, 0, 0);\n",
       "}\n",
       ".v-alert__wrapper .progress {\n",
       "  background-color: transparent;\n",
       "}\n",
       "\n",
       "/* set the bar on top of the map (800) when set to fullscreen */\n",
       "header.v-app-bar {\n",
       "  z-index: 800 !important;\n",
       "}\n",
       "\n",
       "/* set the menu_content on top of the map when it's set to fullscreen */\n",
       ".v-menu__content {\n",
       "  z-index: 802 !important;\n",
       "  max-width: 100% !important;\n",
       "}\n",
       "\n",
       "/* make sure the dialog remain on top of the bars (header and footer) */\n",
       ".v-dialog__content {\n",
       "  z-index: 802 !important;\n",
       "}\n",
       "\n",
       "/* make sure navigation drawers are always visibles when they exist */\n",
       "nav.v-navigation-drawer {\n",
       "  z-index: 900 !important;\n",
       "}\n",
       "\n",
       "/* create extra position for the leaflet map controls */\n",
       ".leaflet-center {\n",
       "  left: 50%;\n",
       "  transform: translate(-50%, 0%);\n",
       "}\n",
       "\n",
       ".leaflet-middle {\n",
       "  top: 50%;\n",
       "  position: absolute;\n",
       "  z-index: 1000;\n",
       "  pointer-events: none;\n",
       "  transform: translate(0%, -50%);\n",
       "}\n",
       "\n",
       ".leaflet-center.leaflet-middle {\n",
       "  transform: translate(-50%, -50%);\n",
       "}\n",
       "\n",
       "/* create extra classes to customize the layer_control table */\n",
       ".v-no-hover:hover {\n",
       "  background-color: transparent !important;\n",
       "}\n",
       "\n",
       ".v-no-border tbody tr td,\n",
       ".v-no-border tbody tr th {\n",
       "  border: none !important;\n",
       "}\n",
       "\n",
       "/* extra css rules to make the messages disapear beneath the SimpleSlider */\n",
       ".v-no-messages .v-messages {\n",
       "  display: none;\n",
       "}\n",
       "\n",
       ".v-no-messages .v-input__slot {\n",
       "  margin-bottom: 0;\n",
       "}\n",
       "\n",
       "/* specific css for the btn placed on maps */\n",
       ".v-btn.v-size--default.v-map-btn:not(.v-btn--round) {\n",
       "  padding: 0px;\n",
       "  min-width: 0px;\n",
       "  width: 30px;\n",
       "  height: 30px;\n",
       "}\n",
       "\n",
       "/* add specific css for the zoom btn of the map */\n",
       ".v-btn.v-zoom-plus {\n",
       "  border-bottom-left-radius: 0;\n",
       "  border-bottom-right-radius: 0;\n",
       "}\n",
       "\n",
       ".v-btn.v-zoom-minus {\n",
       "  margin-top: -1px;\n",
       "  border-top-left-radius: 0;\n",
       "  border-top-right-radius: 0;\n",
       "}\n",
       "\n",
       "/* css rules for fullscreen menus */\n",
       ".v-card.v-menu-fullscreen {\n",
       "  width: calc(100vw - 80px);\n",
       "  height: calc(100vh - 20px);\n",
       "}\n",
       "</style>"
      ],
      "text/plain": [
       "<IPython.core.display.HTML object>"
      ]
     },
     "metadata": {},
     "output_type": "display_data"
    },
    {
     "data": {
      "text/html": [
       "<link rel=\"stylesheet\" href=\"https://cdnjs.cloudflare.com/ajax/libs/font-awesome/6.2.1/css/all.min.css\"/>"
      ],
      "text/plain": [
       "<IPython.core.display.HTML object>"
      ]
     },
     "metadata": {},
     "output_type": "display_data"
    },
    {
     "data": {
      "application/javascript": [
       "/*******************************************************************************\n",
       " * remove any links from fontawesome 5 created by jupyter in favor of\n",
       " * fontawesome 6. to be removed when Jupyter updates it\n",
       " */\n",
       "\n",
       "function remove_fa5() {\n",
       "  links = document.querySelectorAll(\n",
       "    \"link[href^='https://cdn.jsdelivr.net/npm/@fortawesome/fontawesome-free@^5']\"\n",
       "  );\n",
       "\n",
       "  links.forEach((link) => link.remove());\n",
       "}\n",
       "\n",
       "if (document.readyState != \"loading\") remove_fa5();\n",
       "else document.addEventListener(\"DOMContentLoader\", remove_fa5());\n"
      ],
      "text/plain": [
       "<IPython.core.display.Javascript object>"
      ]
     },
     "metadata": {},
     "output_type": "display_data"
    },
    {
     "data": {
      "application/vnd.jupyter.widget-view+json": {
       "model_id": "c6289ba4452e44cc9bbe805653e425b6",
       "version_major": 2,
       "version_minor": 0
      },
      "text/plain": [
       "ResizeTrigger()"
      ]
     },
     "metadata": {},
     "output_type": "display_data"
    }
   ],
   "source": [
    "from component.model import Model\n",
    "import component.tiles.process_tile as pt"
   ]
  },
  {
   "cell_type": "code",
   "execution_count": 3,
   "id": "fed9d22a-0673-4ff1-aff2-43647688ae0c",
   "metadata": {
    "tags": []
   },
   "outputs": [],
   "source": [
    "model = Model()"
   ]
  },
  {
   "cell_type": "code",
   "execution_count": 4,
   "id": "21fa1f7a-c90d-45d3-b227-1159caa08f26",
   "metadata": {
    "tags": []
   },
   "outputs": [
    {
     "data": {
      "application/vnd.jupyter.widget-view+json": {
       "model_id": "7c4fe976730347ae8646ed2ac6cd291c",
       "version_major": 2,
       "version_minor": 0
      },
      "text/plain": [
       "ResizeTrigger(template='\\n            <script>\\n                {methods: {\\n                    jupyter_resiz…"
      ]
     },
     "metadata": {},
     "output_type": "display_data"
    }
   ],
   "source": [
    "process_tile = pt.ProcessTile(model=model)"
   ]
  },
  {
   "cell_type": "code",
   "execution_count": 5,
   "id": "d701fa12-263d-4fc9-bac9-0d3529539fc1",
   "metadata": {
    "tags": []
   },
   "outputs": [
    {
     "data": {
      "text/plain": [
       "AoiModel(asset_name=users/marortpab/FAO/SEPAL/2023_trainings/smm/riau_phu, asset_json={'pathname': 'users/marortpab/FAO/SEPAL/2023_trainings/smm/riau_phu', 'column': 'ALL', 'value': None}, admin=None, vector_json=None, point_json=None, method=ASSET, name=riau_phu, geo_json=None)"
      ]
     },
     "execution_count": 5,
     "metadata": {},
     "output_type": "execute_result"
    }
   ],
   "source": [
    "process_tile.aoi_tile.view.model.set_default(asset=\"users/marortpab/FAO/SEPAL/2023_trainings/smm/riau_phu\")"
   ]
  },
  {
   "cell_type": "code",
   "execution_count": 6,
   "id": "ae031eb6-59f2-4c0e-b449-927f10fd4c2b",
   "metadata": {
    "tags": []
   },
   "outputs": [],
   "source": [
    "process_tile.date_view.date_method = \"range\"\n",
    "process_tile.date_view.start_date = '2022-01-01'\n",
    "process_tile.date_view.end_date = '2022-01-20'"
   ]
  },
  {
   "cell_type": "code",
   "execution_count": 7,
   "id": "efea0a94-5284-47d8-a6c6-0c964debf3fc",
   "metadata": {
    "tags": []
   },
   "outputs": [],
   "source": [
    "# process_tile.date_view.date_method = \"single\"\n",
    "# process_tile.date_view.single_date = '2023-02-01'"
   ]
  },
  {
   "cell_type": "code",
   "execution_count": 8,
   "id": "b5ae9af8-49c7-4506-a7f1-0a2c3e2fa3d8",
   "metadata": {
    "tags": []
   },
   "outputs": [
    {
     "data": {
      "application/vnd.jupyter.widget-view+json": {
       "model_id": "94ed63f7d9af4b87bf58060aa71474ad",
       "version_major": 2,
       "version_minor": 0
      },
      "text/plain": [
       "ProcessView(attributes={'id': 'process_view'}, children=[ExpansionPanels(children=[ExpansionPanel(children=[Ex…"
      ]
     },
     "metadata": {},
     "output_type": "display_data"
    }
   ],
   "source": [
    "process_tile.get_children(id_=\"process_view\")[0]"
   ]
  },
  {
   "cell_type": "code",
   "execution_count": 9,
   "id": "6ab770ea-6748-4e24-b338-4ae1a28fa515",
   "metadata": {
    "tags": []
   },
   "outputs": [
    {
     "data": {
      "application/vnd.jupyter.widget-view+json": {
       "model_id": "1bc5d0d30e2b48679af7c2bcde90cbc1",
       "version_major": 2,
       "version_minor": 0
      },
      "text/plain": [
       "ProcessTile(attributes={'id': 'process_tile'}, children=[StepperHeader(children=[StepperStep(children=['Introd…"
      ]
     },
     "metadata": {},
     "output_type": "display_data"
    }
   ],
   "source": [
    "process_tile"
   ]
  }
 ],
 "metadata": {
  "kernelspec": {
   "display_name": " (venv) Soil Moisture Mapping",
   "language": "python",
   "name": "venv-sepal_pysmm"
  },
  "language_info": {
   "codemirror_mode": {
    "name": "ipython",
    "version": 3
   },
   "file_extension": ".py",
   "mimetype": "text/x-python",
   "name": "python",
   "nbconvert_exporter": "python",
   "pygments_lexer": "ipython3",
   "version": "3.8.10"
  }
 },
 "nbformat": 4,
 "nbformat_minor": 5
}
