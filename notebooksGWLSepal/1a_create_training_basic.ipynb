{
 "cells": [
  {
   "cell_type": "code",
   "execution_count": 2,
   "metadata": {},
   "outputs": [],
   "source": [
    "import sys\n",
    "import time\n",
    "import numpy as np\n",
    "import pandas as pd\n",
    "import geopandas as gpd\n",
    "from pathlib import Path\n",
    "from tqdm import tqdm\n",
    "from eeSAR.s1 import s1_collection, s1_timescan\n",
    "from datetime import datetime as dt, timedelta\n",
    "import ee\n",
    "ee.Initialize()"
   ]
  },
  {
   "cell_type": "code",
   "execution_count": 3,
   "metadata": {},
   "outputs": [
    {
     "data": {
      "text/plain": [
       "30316"
      ]
     },
     "execution_count": 3,
     "metadata": {},
     "output_type": "execute_result"
    }
   ],
   "source": [
    "gdf = gpd.read_file('/home/vollrath/Indonesia_sm/ground_truth_sm.gpkg')\n",
    "len(gdf)"
   ]
  },
  {
   "cell_type": "code",
   "execution_count": null,
   "metadata": {},
   "outputs": [],
   "source": [
    "def addAux(image):\n",
    "    \n",
    "    def addGLDAS(image):\n",
    "\n",
    "        def set_resample(image):\n",
    "            \"\"\" Set resampling of the image to bilinear\"\"\"\n",
    "            return image.resample()\n",
    "        \n",
    "        def add_date_difference(image):\n",
    "\n",
    "            return image.set(\n",
    "                'dateDist',\n",
    "                ee.Number(image.get('system:time_start')).subtract(t.millis()).abs()\n",
    "            )\n",
    "\n",
    "\n",
    "        t = image.date()\n",
    "        fro = t.advance(ee.Number(-30), 'days')\n",
    "        #to = t.advance(ee.Number(10), 'days')\n",
    "\n",
    "        gldas = ee.ImageCollection(\"NASA/GLDAS/V021/NOAH/G025/T3H\") \\\n",
    "            .select('SoilMoi0_10cm_inst') \\\n",
    "            .filterBounds(image.geometry()) \\\n",
    "            .map(set_resample)\\\n",
    "            \n",
    "        gldas_stat = gldas.reduce(\n",
    "                ee.Reducer.mean().combine(ee.Reducer.stdDev(), None, True)\n",
    "            ).rename('gldas_mean', 'gldas_stddev')\n",
    "        \n",
    "        gldas = gldas.filterDate(fro, t).map(add_date_difference)\n",
    "            \n",
    "        sm_gldas = gldas.sort('dateDist').first().rename('sm_1')\n",
    "\n",
    "        gldas_3day = gldas.filterDate(t.advance(ee.Number(-3), 'days'), t)\n",
    "        gldas_3day = gldas_3day.sum().divide(gldas_3day.count()).rename('sm_3')\n",
    "\n",
    "        gldas_7day = gldas.filterDate(t.advance(ee.Number(-7), 'days'), t)\n",
    "        gldas_7day = gldas_7day.sum().divide(gldas_7day.count()).rename('sm_7')\n",
    "\n",
    "        gldas_30day = gldas.sum().divide(gldas.count()).rename('sm_30')\n",
    "\n",
    "        return image.addBands(gldas_stat).addBands(sm_gldas).addBands(gldas_3day).addBands(gldas_7day).addBands(gldas_30day)\n",
    "    \n",
    "    \n",
    "    def addGPM(image):\n",
    "\n",
    "        def set_resample(image):\n",
    "            \"\"\" Set resampling of the image to bilinear\"\"\"\n",
    "            return image.resample()\n",
    "\n",
    "        def add_date_difference(image):\n",
    "\n",
    "            return image.set(\n",
    "                'dateDist',\n",
    "                ee.Number(image.get('system:time_start')).subtract(t.millis()).abs()\n",
    "            )\n",
    "\n",
    "        t = image.date()\n",
    "        # t = ee.Date(feature.get('date').getInfo()['value'])\n",
    "        fro = t.advance(ee.Number(-30), 'days')\n",
    "\n",
    "        gpm = ee.ImageCollection('NASA/GPM_L3/IMERG_V06') \\\n",
    "            .filterBounds(image.geometry()) \\\n",
    "            .filterDate(fro, t) \\\n",
    "            .select('HQprecipitation') \\\n",
    "            .map(add_date_difference) \\\n",
    "            .map(set_resample)\n",
    "\n",
    "\n",
    "        gpm_closest = gpm.filterDate(t.advance(ee.Number(-1), 'days'), t)  \n",
    "        gpm_closest = gpm_closest.sum().divide(gpm_closest.count()).rename('precipitation')\n",
    "\n",
    "        gpm_3day = gpm.filterDate(t.advance(ee.Number(-3), 'days'), t)\n",
    "        gpm_3day = gpm_3day.sum().divide(gpm_3day.count()).rename('prec_3')\n",
    "\n",
    "        gpm_7day = gpm.filterDate(t.advance(ee.Number(-7), 'days'), t)\n",
    "        gpm_7day = gpm_7day.sum().divide(gpm_7day.count()).rename('prec_7')\n",
    "\n",
    "        gpm_30day = gpm.sum().divide(gpm.count()).rename('prec_30')\n",
    "\n",
    "        return image.addBands(gpm_closest).addBands(gpm_3day).addBands(gpm_7day).addBands(gpm_30day)\n",
    "    \n",
    "    \n",
    "    def addSRTM(image):\n",
    "\n",
    "        srtm = ee.Image('USGS/SRTMGL1_003').resample()\n",
    "        aspect = ee.Terrain.aspect(srtm).rename('aspect')\n",
    "        slope = ee.Terrain.slope(srtm).rename('slope')\n",
    "\n",
    "        return image.addBands(srtm.select('elevation').addBands(aspect).addBands(slope))\n",
    "    \n",
    "    \n",
    "    def addGlobCover(image):\n",
    "        \n",
    "        lc = ee.Image(\"ESA/GLOBCOVER_L4_200901_200912_V2_3\")\n",
    "        return image.addBands(lc)\n",
    "    \n",
    "    def addTScans(image):\n",
    "    \n",
    "        def toLn(image):\n",
    "\n",
    "            ln = image.select(['VV', 'VH']).log().rename(['VV', 'VH'])\n",
    "            return image.addBands(ln, None, True)\n",
    "\n",
    "        def toLin(image):\n",
    "\n",
    "            lin = ee.Image(10).pow(image.select(['VV', 'VH']).divide(10)).rename(['VV', 'VH'])\n",
    "            return image.addBands(lin, None, True)\n",
    "\n",
    "        track_nr = image.get('relativeOrbitNumber_start')\n",
    "        orbit = image.get('orbitProperties_pass').getInfo()\n",
    "\n",
    "        tSeries = s1_collection.create(\n",
    "            region=image.geometry(),\n",
    "            orbits=[orbit],\n",
    "            start_date='2014-01-01',\n",
    "            end_date='2021-01-01',\n",
    "            add_ratio=False,\n",
    "            add_ND_ratio=False,\n",
    "            speckle_filter='NONE',\n",
    "            radiometric_correction='TERRAIN',\n",
    "            slope_correction_dict={'model': 'surface', 'dem': 'USGS/SRTMGL1_003', 'buffer': 50},\n",
    "            db=False,\n",
    "            outlier_removal='AGGRESSIVE'\n",
    "            ) \\\n",
    "            .filterMetadata('relativeOrbitNumber_start', 'equals', track_nr)\n",
    "\n",
    "        # create combined reducer\n",
    "        reducer = ee.Reducer.mean() \\\n",
    "            .combine(ee.Reducer.stdDev(), '', True) \\\n",
    "            .combine(ee.Reducer.percentile([5, 95]), '', True)\n",
    "\n",
    "        # create log timescan (k variables)\n",
    "        tScanLn = tSeries.map(toLn).select(['VV', 'VH']).reduce(reducer).select(\n",
    "        ['VV_mean', 'VV_stdDev', 'VV_p5', 'VV_p95', 'VH_mean', 'VH_stdDev', 'VH_p5', 'VH_p95'],\n",
    "        ['kVV_mean', 'kVV_stdDev', 'kVV_p5', 'kVV_p95', 'kVH_mean', 'kVH_stdDev', 'kVH_p5', 'kVH_p95'])\n",
    "\n",
    "        # creeate linear timescan\n",
    "        tScanLin = tSeries.map(toLin).select(['VV', 'VH']).reduce(reducer)\n",
    "\n",
    "        return image.addBands(tScanLn).addBands(tScanLin)\n",
    "    \n",
    "    #image = addGPM(image)\n",
    "    #image = addGLDAS(image)\n",
    "    image = addSRTM(image)\n",
    "    image = addGlobCover(image)\n",
    "    image = addTScans(image)\n",
    "                                    \n",
    "    return image\n",
    "\n",
    "\n"
   ]
  },
  {
   "cell_type": "code",
   "execution_count": null,
   "metadata": {},
   "outputs": [],
   "source": [
    "def get_explanatories(i, row):\n",
    "    \n",
    "    date = row['index']\n",
    "    date = dt.strptime(date, '%d/%m/%Y')\n",
    "    start = dt.strftime(date, '%Y-%m-%d')\n",
    "    end = dt.strftime(date + timedelta(days=1), '%Y-%m-%d')\n",
    "    \n",
    "    point = ee.Geometry.Point(row.lon, row.lat)\n",
    "    \n",
    "    image = s1_collection.create(\n",
    "        region=point.buffer(2000), \n",
    "        start_date=start,\n",
    "        end_date=end, \n",
    "        add_ND_ratio=False,\n",
    "        speckle_filter='QUEGAN',\n",
    "        radiometric_correction='TERRAIN',\n",
    "        slope_correction_dict={'model': 'surface', 'dem': 'USGS/SRTMGL1_003', 'buffer': 50}, #'CGIAR/SRTM90_V4'\n",
    "        db=True\n",
    "    ).first()\n",
    "\n",
    "    # if there is no image, skip\n",
    "    if not image.getInfo():\n",
    "        return\n",
    "\n",
    "    # get metadata\n",
    "    props = image.getInfo()['properties']\n",
    "    row['scene_id'] = props['system:index']\n",
    "    row['ee_time'] = image.date().getInfo()\n",
    "    row['ee_geom'] = image.geometry().getInfo()\n",
    "    orbit = props['orbitProperties_pass']\n",
    "    row['orbit_direction'] = 1 if orbit == 'ASCENDING' else 2\n",
    "\n",
    "    row['acq_date'] = row['scene_id'][17:25]\n",
    "\n",
    "    image = addAux(image)\n",
    "    #sample_feature = ee.Feature(point).set('date', image.date())\n",
    "    #image = addGPM(sample_feature).select('precipitation', 'prec_3', 'prec_7', 'prec_30')\n",
    "\n",
    "    # get actual data\n",
    "    image_red = image.reduceRegion(\n",
    "        reducer=ee.Reducer.toList(),\\\n",
    "        geometry=point.buffer(150),\\\n",
    "        maxPixels=1e13,\\\n",
    "        scale=100\n",
    "    );\n",
    "\n",
    "\n",
    "    data_dict = image_red.getInfo()\n",
    "    \n",
    "    bandlist = [\n",
    "     'VV', 'VH', 'VVVH_ratio', 'angle', 'LIA', #'layover', 'shadow', 'no_data_mask', \n",
    "     #'precipitation', 'prec_3', 'prec_7', 'prec_30', \n",
    "     #'gldas_mean', 'gldas_stddev', 'sm_gldas', 'sm_3', 'sm_7', 'sm_30',\n",
    "     'elevation', 'aspect', 'slope', \n",
    "     'landcover',\n",
    "     'kVV_mean', 'kVV_stdDev', 'kVV_p5', 'kVV_p95', 'kVH_mean', 'kVH_stdDev', 'kVH_p5', 'kVH_p95', \n",
    "     'VV_mean', 'VV_stdDev', 'VV_p5', 'VV_p95', 'VH_mean', 'VH_stdDev', 'VH_p5', 'VH_p95'\n",
    "    ]\n",
    "\n",
    "    for band in bandlist:\n",
    "        if band == 'landcover':\n",
    "            counts = np.bincount(data_dict[band])\n",
    "            row[band] = np.argmax(counts)\n",
    "        else:\n",
    "            row[band] = np.mean(data_dict[band])\n",
    "\n",
    "    d = {}\n",
    "    d[i] = row\n",
    "    df = pd.DataFrame.from_dict(d, orient='index')\n",
    "    df.to_pickle(f'/home/vollrath/Indonesia_sm/samples_all/{i}.gpm.pickle')\n",
    "    "
   ]
  },
  {
   "cell_type": "code",
   "execution_count": 5,
   "metadata": {},
   "outputs": [
    {
     "name": "stdout",
     "output_type": "stream",
     "text": [
      "processed: 30315: 100%|██████████| 30316/30316 [22:49<00:00,  2.34s/it]  \n"
     ]
    }
   ],
   "source": [
    "from multiprocessing import Process\n",
    "j = 29730\n",
    "\n",
    "with tqdm(initial=j, total=len(gdf), file=sys.stdout) as pbar:\n",
    "    for i, row in gdf.iterrows():\n",
    "        \n",
    "        if i >= j:\n",
    "            #get_explanatories(i, row)\n",
    "            #break\n",
    "        \n",
    "\n",
    "            ## https://medium.com/@chaoren/how-to-timeout-in-python-726002bf2291\n",
    "            ec = None\n",
    "            while ec is None != 0:\n",
    "                p1 = Process(target=get_explanatories, args=(i, row, ), name='Process')\n",
    "                p1.start()\n",
    "                p1.join(timeout=180)\n",
    "                p1.terminate()\n",
    "                ec = p1.exitcode\n",
    "            #\n",
    "            pbar.set_description('processed: %d' % (i))\n",
    "            pbar.update(1)\n",
    "            "
   ]
  },
  {
   "cell_type": "code",
   "execution_count": 11,
   "metadata": {},
   "outputs": [],
   "source": [
    "for i, file in enumerate(Path('/home/vollrath/Indonesia_sm/samples_all/').glob('*.gpm.pickle')):\n",
    "#    print(file)\n",
    "    if i == 0:\n",
    "        df = pd.read_pickle(file)\n",
    "    else:\n",
    "        df = pd.concat([df, pd.read_pickle(file)])"
   ]
  },
  {
   "cell_type": "code",
   "execution_count": 14,
   "metadata": {},
   "outputs": [
    {
     "data": {
      "text/plain": [
       "Index(['station', 'index', 'location', 'province', 'lon', 'lat', 'GWL_max',\n",
       "       'GWL_min', 'GWL_rata', 'SM_max', 'SM_min', 'SM_rata', 'Total',\n",
       "       'geometry', 'scene_id', 'ee_time', 'ee_geom', 'orbit_direction',\n",
       "       'acq_date', 'VV', 'VH', 'VVVH_ratio', 'angle', 'LIA', 'elevation',\n",
       "       'aspect', 'slope', 'landcover', 'kVV_mean', 'kVV_stdDev', 'kVV_p5',\n",
       "       'kVV_p95', 'kVH_mean', 'kVH_stdDev', 'kVH_p5', 'kVH_p95', 'VV_mean',\n",
       "       'VV_stdDev', 'VV_p5', 'VV_p95', 'VH_mean', 'VH_stdDev', 'VH_p5',\n",
       "       'VH_p95'],\n",
       "      dtype='object')"
      ]
     },
     "execution_count": 14,
     "metadata": {},
     "output_type": "execute_result"
    }
   ],
   "source": [
    "df.columns"
   ]
  },
  {
   "cell_type": "code",
   "execution_count": 15,
   "metadata": {},
   "outputs": [
    {
     "name": "stdout",
     "output_type": "stream",
     "text": [
      "3197\n",
      "2928\n"
     ]
    }
   ],
   "source": [
    "df_no_nans = df.dropna()\n",
    "print(len(df))\n",
    "print(len(df_no_nans))\n",
    "gdf = gpd.GeoDataFrame(df_no_nans, geometry=gpd.points_from_xy(df_no_nans.lon, df_no_nans.lat))\n",
    "gdf.to_file('/home/vollrath/Indonesia_sm/samples_all/combined_s1_extract.gpkg', driver='GPKG')"
   ]
  },
  {
   "cell_type": "code",
   "execution_count": 5,
   "metadata": {},
   "outputs": [
    {
     "data": {
      "text/plain": [
       "2928"
      ]
     },
     "execution_count": 5,
     "metadata": {},
     "output_type": "execute_result"
    }
   ],
   "source": [
    "c = gpd.read_file('/home/vollrath/Indonesia_sm/samples_all/combined_s1_extract.gpkg')\n",
    "len(c)"
   ]
  },
  {
   "cell_type": "code",
   "execution_count": null,
   "metadata": {},
   "outputs": [],
   "source": []
  }
 ],
 "metadata": {
  "kernelspec": {
   "display_name": "Python 3",
   "language": "python",
   "name": "python3"
  },
  "language_info": {
   "codemirror_mode": {
    "name": "ipython",
    "version": 3
   },
   "file_extension": ".py",
   "mimetype": "text/x-python",
   "name": "python",
   "nbconvert_exporter": "python",
   "pygments_lexer": "ipython3",
   "version": "3.6.9"
  }
 },
 "nbformat": 4,
 "nbformat_minor": 4
}
