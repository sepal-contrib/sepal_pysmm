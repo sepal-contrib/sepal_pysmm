{
 "cells": [
  {
   "cell_type": "code",
   "execution_count": 1,
   "metadata": {},
   "outputs": [],
   "source": [
    "import ee\n",
    "import sys\n",
    "import time\n",
    "import numpy as np\n",
    "import pandas as pd\n",
    "import geopandas as gpd\n",
    "from tqdm import tqdm\n",
    "from eeSAR.s1 import s1_collection, s1_timescan\n",
    "from datetime import datetime as dt, timedelta\n",
    "import ee\n",
    "ee.Initialize()"
   ]
  },
  {
   "cell_type": "code",
   "execution_count": 40,
   "metadata": {},
   "outputs": [],
   "source": [
    "def addExtra(image):\n",
    "    \n",
    "    def addGEDI(image):\n",
    "        \n",
    "        gedi = ee.ImageCollection('users/potapovpeter/GEDI_V27').mosaic().rename('canopy_hei').unitScale(0,30);\n",
    "        \n",
    "        return image.addBands(gedi)\n",
    "    \n",
    "    \n",
    "    def addHansen(image):\n",
    "        \n",
    "\n",
    "        coll_dict = {\n",
    "            '2012': ee.Image(\"UMD/hansen/global_forest_change_2012_v1_0\"),\n",
    "            '2013': ee.Image(\"UMD/hansen/global_forest_change_2013_v1_1\"),\n",
    "            '2014': ee.Image(\"UMD/hansen/global_forest_change_2014_v1_2\"),\n",
    "            '2015': ee.Image(\"UMD/hansen/global_forest_change_2015_v1_3\"),\n",
    "            '2016': ee.Image(\"UMD/hansen/global_forest_change_2016_v1_4\"),\n",
    "            '2017': ee.Image(\"UMD/hansen/global_forest_change_2017_v1_5\"),\n",
    "            '2018': ee.Image(\"UMD/hansen/global_forest_change_2018_v1_6\"),\n",
    "            '2019': ee.Image(\"UMD/hansen/global_forest_change_2019_v1_7\"),\n",
    "        }\n",
    "        \n",
    "        #year = image.getInfo()['properties']['system:index'][17:21]\n",
    "        #year = '2019' if year == '2020' else year\n",
    "        \n",
    "        hansen = coll_dict['2019']\n",
    "        \n",
    "        b3 = hansen.select(['last_b30'], ['B3'])\n",
    "        b4 = hansen.select(['last_b40'], ['B4'])\n",
    "        b5 = hansen.select(['last_b50'], ['B5'])\n",
    "        b7 = hansen.select(['last_b70'], ['B7'])\n",
    "        \n",
    "        ndvi = (b4.subtract(b3)).divide(b4.add(b3)).rename('ndvi')\n",
    "        ndmi = (b4.subtract(b5)).divide(b4.add(b5)).rename('ndmi')\n",
    "        ndbri = (b4.subtract(b7)).divide(b4.add(b7)).rename('ndbri')\n",
    "        \n",
    "        return image.addBands(b3).addBands(b4).addBands(b5).addBands(b7).addBands(ndvi).addBands(ndmi).addBands(ndbri)\n",
    "                              \n",
    "    \n",
    "    def addSRTM(image):\n",
    "\n",
    "        srtm = ee.Image('USGS/SRTMGL1_003').resample()\n",
    "        aspect = ee.Terrain.aspect(srtm).rename('aspect')\n",
    "        slope = ee.Terrain.slope(srtm).rename('slope')\n",
    "\n",
    "        return image.addBands(srtm.select('elevation').addBands(aspect).addBands(slope))\n",
    "    \n",
    "    \n",
    "    def addChannelDistance(image):\n",
    "        \n",
    "        channels = ee.Image('users/marortpab/FAO/indonesia/cs4/stack_selected').select(4)\n",
    "        return image.addBands(channels)\n",
    "    \n",
    "    image = addGEDI(image)\n",
    "    image = addHansen(image)\n",
    "    image = addSRTM(image)\n",
    "    image = addChannelDistance(image)\n",
    "    \n",
    "    return image\n",
    "\n",
    "\n",
    "def toLn(image):\n",
    "\n",
    "    ln = image.select(['VV', 'VH']).log().rename(['VV', 'VH'])\n",
    "    return image.addBands(ln, None, True)\n",
    "\n",
    "def toLin(image):\n",
    "\n",
    "    lin = ee.Image(10).pow(image.select(['VV', 'VH']).divide(10)).rename(['VV', 'VH'])\n",
    "    return image.addBands(lin, None, True)"
   ]
  },
  {
   "cell_type": "code",
   "execution_count": 41,
   "metadata": {},
   "outputs": [],
   "source": [
    "aoi = ee.FeatureCollection('users/marortpab/FAO/indonesia/cs4/selected_phu')\n",
    "geom = ee.Geometry.Polygon([[[\n",
    "    113.4710523892079,-3.1719616984149743],\n",
    "    [114.9212477017079,-3.1719616984149743],\n",
    "    [114.9212477017079,-1.8411739686394748],\n",
    "    [113.4710523892079,-1.8411739686394748],\n",
    "    [113.4710523892079,-3.1719616984149743]]]\n",
    ")\n",
    "\n",
    "# create time-series\n",
    "tSeries = s1_collection.create(\n",
    "        region=geom.bounds(),\n",
    "        orbits=['ASCENDING', 'DESCENDING'],\n",
    "        start_date='2014-01-01',\n",
    "        end_date='2021-01-01',\n",
    "        add_ratio=False,\n",
    "        add_ND_ratio=False,\n",
    "        speckle_filter='NONE',\n",
    "        radiometric_correction='TERRAIN',\n",
    "        slope_correction_dict={'model': 'surface', 'dem': 'USGS/SRTMGL1_003', 'buffer': 50},\n",
    "        db=False,\n",
    "        outlier_removal='AGGRESSIVE'\n",
    "        ) #\\\n",
    "        #.filterMetadata('relativeOrbitNumber_start', 'equals', track_nr)\n",
    "    \n",
    "# create combined reducer\n",
    "reducer = ee.Reducer.mean() \\\n",
    "    .combine(ee.Reducer.stdDev(), '', True) \\\n",
    "    .combine(ee.Reducer.percentile([5, 95]), '', True)\n",
    "\n",
    "# create log timescan (k variables)\n",
    "tScanLn = tSeries.map(toLn).select(['VV', 'VH']).reduce(reducer).select(\n",
    "['VV_mean', 'VV_stdDev', 'VV_p5', 'VV_p95', 'VH_mean', 'VH_stdDev', 'VH_p5', 'VH_p95'],\n",
    "['kVV_mean', 'kVV_stdDev', 'kVV_p5', 'kVV_p95', 'kVH_mean', 'kVH_stdDev', 'kVH_p5', 'kVH_p95'])\n",
    "\n",
    "# create linear timescan\n",
    "tScanLin = tSeries.map(toLin).select(['VV', 'VH']).reduce(reducer)\n",
    "\n",
    "s1 = tScanLn.addBands(tScanLin)\n",
    "stack = addExtra(s1)"
   ]
  },
  {
   "cell_type": "code",
   "execution_count": 42,
   "metadata": {},
   "outputs": [
    {
     "data": {
      "text/plain": [
       "['kVV_mean',\n",
       " 'kVV_stdDev',\n",
       " 'kVV_p5',\n",
       " 'kVV_p95',\n",
       " 'kVH_mean',\n",
       " 'kVH_stdDev',\n",
       " 'kVH_p5',\n",
       " 'kVH_p95',\n",
       " 'VV_mean',\n",
       " 'VV_stdDev',\n",
       " 'VV_p5',\n",
       " 'VV_p95',\n",
       " 'VH_mean',\n",
       " 'VH_stdDev',\n",
       " 'VH_p5',\n",
       " 'VH_p95',\n",
       " 'canopy_hei',\n",
       " 'B3',\n",
       " 'B4',\n",
       " 'B5',\n",
       " 'B7',\n",
       " 'ndvi',\n",
       " 'ndmi',\n",
       " 'ndbri',\n",
       " 'elevation',\n",
       " 'aspect',\n",
       " 'slope',\n",
       " 'canal_d']"
      ]
     },
     "execution_count": 42,
     "metadata": {},
     "output_type": "execute_result"
    }
   ],
   "source": [
    "stack.bandNames().getInfo()"
   ]
  },
  {
   "cell_type": "code",
   "execution_count": 87,
   "metadata": {},
   "outputs": [
    {
     "name": "stdout",
     "output_type": "stream",
     "text": [
      "44\n"
     ]
    }
   ],
   "source": [
    "def add_class(feature):\n",
    "    \n",
    "    return feature.set('class', 0)\n",
    "\n",
    "seed = 2020\n",
    "training_data = ee.FeatureCollection('users/andreasvollrath/GWL_indonesia/mask_model')\n",
    "print(training_data.size().getInfo())\n",
    "\n",
    "\n",
    "training_data = training_data.map(add_class)\n",
    "training_data = training_data.randomColumn('random', seed);\n",
    "\n",
    "# Share of random training features, the % of features (being 1 = 100%) to include as training features, 1-n will be selected as testing features\n",
    "n = 0.7\n",
    "\n",
    "roi = stack.select(bands).sampleRegions(collection=training_data, scale=100, geometries=True, properties=['class'])\n",
    "roi = roi.randomColumn('random', seed);\n",
    "#//Select features to train the algorithm and left some out for testing\n",
    "training = roi.filter(ee.Filter.lte('random',n)); \n",
    "testing  = roi.filter(ee.Filter.gt('random',n));\n",
    "\n"
   ]
  },
  {
   "cell_type": "code",
   "execution_count": 82,
   "metadata": {},
   "outputs": [
    {
     "data": {
      "text/plain": [
       "{'type': 'Feature',\n",
       " 'geometry': {'geodesic': False,\n",
       "  'type': 'Point',\n",
       "  'coordinates': [109.09814546810559, 0.3067746695268166]},\n",
       " 'id': '0000000000000000000b_0',\n",
       " 'properties': {'B3': 25,\n",
       "  'B4': 81,\n",
       "  'B5': 79,\n",
       "  'B7': 40,\n",
       "  'aspect': 180,\n",
       "  'canopy_hei': 0,\n",
       "  'class': 0,\n",
       "  'elevation': 5,\n",
       "  'ndbri': 0.3388429880142212,\n",
       "  'ndmi': 0.012500000186264515,\n",
       "  'ndvi': 0.5283018946647644,\n",
       "  'slope': 0.46373534202575684}}"
      ]
     },
     "execution_count": 82,
     "metadata": {},
     "output_type": "execute_result"
    }
   ],
   "source": [
    "roi.first().getInfo()"
   ]
  },
  {
   "cell_type": "code",
   "execution_count": 88,
   "metadata": {},
   "outputs": [],
   "source": [
    "bands = [#'kVV_mean',\n",
    " #'kVV_stdDev',\n",
    " #'kVV_p5',\n",
    " #'kVV_p95',\n",
    " #'kVH_mean',\n",
    " #'kVH_stdDev',\n",
    " #'kVH_p5',\n",
    " #'kVH_p95',\n",
    " #'VV_mean',\n",
    " #'VV_stdDev',\n",
    " #'VV_p5',\n",
    " #'VV_p95',\n",
    " #'VH_mean',\n",
    " #'VH_stdDev',\n",
    " #'VH_p5',\n",
    " #'VH_p95',\n",
    " 'canopy_hei',\n",
    " 'B3',\n",
    " 'B4',\n",
    " 'B5',\n",
    " 'B7',\n",
    " 'ndvi',\n",
    " 'ndmi',\n",
    " 'ndbri',\n",
    " 'elevation',\n",
    " 'aspect',\n",
    " 'slope']\n",
    "\n",
    "gamma = ee.Number(1).divide(ee.Number(training.size()))\n",
    "\n",
    "classifier = ee.Classifier.svm(\n",
    "    svmType='ONE_CLASS',\n",
    "    kernelType='RBF',\n",
    "    gamma=gamma,\n",
    "    nu=0.05\n",
    ").train(\n",
    "    features=training,\n",
    "    classProperty='class',\n",
    "    inputProperties=bands\n",
    ");"
   ]
  },
  {
   "cell_type": "code",
   "execution_count": 89,
   "metadata": {},
   "outputs": [],
   "source": [
    "classified = stack.classify(classifier) #.add(ee.Image(1))"
   ]
  },
  {
   "cell_type": "code",
   "execution_count": 90,
   "metadata": {},
   "outputs": [],
   "source": [
    "validated = testing.classify(classifier)\n",
    "testAccuracy = validated.errorMatrix('class','classification')"
   ]
  },
  {
   "cell_type": "code",
   "execution_count": 91,
   "metadata": {},
   "outputs": [
    {
     "name": "stdout",
     "output_type": "stream",
     "text": [
      "[[0, 16], [0, 0]]\n",
      "0\n"
     ]
    }
   ],
   "source": [
    "print(testAccuracy.getInfo())\n",
    "print(testAccuracy.accuracy().getInfo())"
   ]
  },
  {
   "cell_type": "code",
   "execution_count": 93,
   "metadata": {},
   "outputs": [
    {
     "data": {
      "text/plain": [
       "{'state': 'READY',\n",
       " 'description': 'classified_asset',\n",
       " 'creation_timestamp_ms': 1604596697279,\n",
       " 'update_timestamp_ms': 1604596697279,\n",
       " 'start_timestamp_ms': 0,\n",
       " 'task_type': 'EXPORT_IMAGE',\n",
       " 'id': 'T5QVSXZXJNR7WTMI4SMGKVL6',\n",
       " 'name': 'projects/earthengine-legacy/operations/T5QVSXZXJNR7WTMI4SMGKVL6'}"
      ]
     },
     "execution_count": 93,
     "metadata": {},
     "output_type": "execute_result"
    }
   ],
   "source": [
    "task = ee.batch.Export.image.toAsset(\n",
    "    assetId='users/andreasvollrath/mask_test3',\n",
    "    image=classified,\n",
    "    description='classified_asset',\n",
    "    scale=100,\n",
    "    region=geom,\n",
    "    maxPixels=1e13\n",
    ");\n",
    "task.start()\n",
    "task.status()"
   ]
  },
  {
   "cell_type": "code",
   "execution_count": null,
   "metadata": {},
   "outputs": [],
   "source": []
  }
 ],
 "metadata": {
  "kernelspec": {
   "display_name": "Python 3",
   "language": "python",
   "name": "python3"
  },
  "language_info": {
   "codemirror_mode": {
    "name": "ipython",
    "version": 3
   },
   "file_extension": ".py",
   "mimetype": "text/x-python",
   "name": "python",
   "nbconvert_exporter": "python",
   "pygments_lexer": "ipython3",
   "version": "3.6.9"
  }
 },
 "nbformat": 4,
 "nbformat_minor": 4
}
