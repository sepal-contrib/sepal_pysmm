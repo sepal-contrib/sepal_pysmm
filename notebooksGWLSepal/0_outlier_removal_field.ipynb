{
 "cells": [
  {
   "cell_type": "markdown",
   "metadata": {},
   "source": [
    "# Notebook to clean station data\n",
    "\n",
    "Within this notebook each of the stations is loaded singularily.\n",
    "\n",
    "Each station a a specific z value and temporal filtering is applied to exclude unreliable measurements\n"
   ]
  },
  {
   "cell_type": "code",
   "execution_count": null,
   "metadata": {},
   "outputs": [],
   "source": [
    "import pandas as pd\n",
    "import geopandas as gpd\n",
    "\n",
    "\n",
    "#---------------------------------------------------\n",
    "# for plotting purposes we use this iPython magic\n",
    "%matplotlib inline\n",
    "%pylab inline\n",
    "pylab.rcParams['figure.figsize'] = (13, 13)\n",
    "#---------------------------------------------------"
   ]
  },
  {
   "cell_type": "markdown",
   "metadata": {},
   "source": [
    "### Helper funsiton to drop statistical outliers"
   ]
  },
  {
   "cell_type": "code",
   "execution_count": 3,
   "metadata": {},
   "outputs": [],
   "source": [
    "from scipy import stats\n",
    "\n",
    "def drop_numerical_outliers(df, z_thresh=3):\n",
    "    # Constrains will contain `True` or `False` depending on if it is a value below the threshold.\n",
    "    constrains = df.select_dtypes(include=[np.number]) \\\n",
    "        .apply(lambda x: np.abs(stats.zscore(x)) < z_thresh) \\\n",
    "        .all(axis=1)\n",
    "    # Drop (inplace) values set to be rejected\n",
    "    df.drop(df.index[~constrains], inplace=True)\n",
    "    \n",
    "    return df"
   ]
  },
  {
   "cell_type": "markdown",
   "metadata": {},
   "source": [
    "### Load original field dataset"
   ]
  },
  {
   "cell_type": "code",
   "execution_count": 4,
   "metadata": {},
   "outputs": [
    {
     "name": "stdout",
     "output_type": "stream",
     "text": [
      "We have 39787 records\n",
      "We have 30316 records afte dropping all NaNs\n",
      "We have 89 different stations for Soil Moisture Estimates\n"
     ]
    }
   ],
   "source": [
    "# read data\n",
    "df = pd.read_csv('/home/vollrath/Indonesia_sm/Combined_sipalaga_all.csv', delimiter=';')\n",
    "print(f'We have {len(df)} records')\n",
    "\n",
    "# exclude smm from columns\n",
    "cols = ['station', 'index', 'location', 'province', 'lon', 'lat', 'GWL_max', 'GWL_min', 'GWL_rata', 'SM_max', 'SM_min', 'SM_rata', 'Total']\n",
    "print(f'We have {len(df[cols].dropna())} records afte dropping all NaNs')\n",
    "# and drop nans\n",
    "df_no_nans = df[cols].dropna()\n",
    "\n",
    "print(f'We have {len(df_no_nans.station.unique())} different stations for Soil Moisture Estimates')\n",
    "\n",
    "df_no_nans['index'] = pd.to_datetime(df_no_nans['index'], format='%d/%m/%Y')\n",
    "df_no_nans = df_no_nans.set_index('index').dropna()"
   ]
  },
  {
   "cell_type": "markdown",
   "metadata": {},
   "source": [
    "### Iterative function to plot each station\n",
    "\n",
    "z, j and k are the values ot exclude the data, where:\n",
    "- z is the z-value for statistical outliers\n",
    "- j is the start measurement\n",
    "- k is the en dmesuremtn (end - k) for excluding k-last measurements "
   ]
  },
  {
   "cell_type": "code",
   "execution_count": 393,
   "metadata": {},
   "outputs": [],
   "source": [
    "for i, station in enumerate(df_no_nans.station.unique()):\n",
    "    if i < 89:\n",
    "        continue\n",
    "        \n",
    "    z, j, k = 3, 1, 0\n",
    "    \n",
    "    #df = df_no_nans[['station', 'province', 'location', 'GWL_rata']][df_no_nans.station == station]\n",
    "    df = df_no_nans[df_no_nans.station == station]\n",
    "    y = df['GWL_rata']\n",
    "    removed_outliers = y.between(y.quantile(.05), y.quantile(.95))\n",
    "    removed_z = np.abs(stats.zscore(y)) < z\n",
    "    #print(removed_outliers)\n",
    "    df_clean = df[removed_outliers]\n",
    "    df_z = df[removed_z]\n",
    "    print(len(df), len(df_clean), len(df_z))\n",
    "    df['GWL_rata'].plot()\n",
    "    #df_z['GWL_rata'][df_z['GWL_rata'] > -1.5].plot()\n",
    "    df_z['GWL_rata'][j:].plot()\n",
    "    df_z[j:].to_pickle(f'/home/vollrath/Indonesia_sm/cleaned_station_data/{i}.{station}.pickle')\n",
    "    break\n",
    "    df_out = drop_numerical_outliers(df, 5)  \n",
    "    print(station, len(df) - len(df_out))\n",
    "    if i == 0:\n",
    "        \n",
    "        df_clean = df_out\n",
    "    else:\n",
    "        df_clean = df_clean.append(df_out)"
   ]
  },
  {
   "cell_type": "markdown",
   "metadata": {},
   "source": [
    "### merge all single pickel files into one for a cleaned dataset"
   ]
  },
  {
   "cell_type": "markdown",
   "metadata": {},
   "source": [
    "stations to exlcude: 30, (32), (33), (56), (69), 88"
   ]
  },
  {
   "cell_type": "code",
   "execution_count": 405,
   "metadata": {},
   "outputs": [
    {
     "name": "stdout",
     "output_type": "stream",
     "text": [
      "0 /home/vollrath/Indonesia_sm/cleaned_station_data/83.brg6.pickle\n",
      "1 /home/vollrath/Indonesia_sm/cleaned_station_data/86.kalbar1.pickle\n",
      "2 /home/vollrath/Indonesia_sm/cleaned_station_data/11.BRG_150710_03.pickle\n",
      "3 /home/vollrath/Indonesia_sm/cleaned_station_data/49.BRG_621107_05.pickle\n",
      "4 /home/vollrath/Indonesia_sm/cleaned_station_data/34.BRG_621101_01.pickle\n",
      "5 /home/vollrath/Indonesia_sm/cleaned_station_data/53.BRG_621108_01.pickle\n",
      "6 /home/vollrath/Indonesia_sm/cleaned_station_data/45.BRG_621107_01.pickle\n",
      "7 /home/vollrath/Indonesia_sm/cleaned_station_data/38.BRG_621103_03.pickle\n",
      "8 /home/vollrath/Indonesia_sm/cleaned_station_data/78.brg19.pickle\n",
      "9 /home/vollrath/Indonesia_sm/cleaned_station_data/32.BRG_620801_01.pickle\n",
      "10 /home/vollrath/Indonesia_sm/cleaned_station_data/15.BRG_610207_01.pickle\n",
      "11 /home/vollrath/Indonesia_sm/cleaned_station_data/36.BRG_621103_01.pickle\n",
      "12 /home/vollrath/Indonesia_sm/cleaned_station_data/76.brg17.pickle\n",
      "13 /home/vollrath/Indonesia_sm/cleaned_station_data/47.BRG_621107_03.pickle\n",
      "14 /home/vollrath/Indonesia_sm/cleaned_station_data/29.BRG_620209_01.pickle\n",
      "15 /home/vollrath/Indonesia_sm/cleaned_station_data/81.brg4.pickle\n",
      "16 /home/vollrath/Indonesia_sm/cleaned_station_data/35.BRG_621101_02.pickle\n",
      "17 /home/vollrath/Indonesia_sm/cleaned_station_data/75.brg16.pickle\n",
      "18 /home/vollrath/Indonesia_sm/cleaned_station_data/87.kalteng1.pickle\n",
      "19 /home/vollrath/Indonesia_sm/cleaned_station_data/67.BRG_631104_01.pickle\n",
      "20 /home/vollrath/Indonesia_sm/cleaned_station_data/28.BRG_620208_01.pickle\n",
      "21 /home/vollrath/Indonesia_sm/cleaned_station_data/80.brg3.pickle\n",
      "22 /home/vollrath/Indonesia_sm/cleaned_station_data/46.BRG_621107_02.pickle\n",
      "23 /home/vollrath/Indonesia_sm/cleaned_station_data/27.BRG_611209_01.pickle\n",
      "24 /home/vollrath/Indonesia_sm/cleaned_station_data/19.BRG_610218_01.pickle\n",
      "25 /home/vollrath/Indonesia_sm/cleaned_station_data/39.BRG_621103_04.pickle\n",
      "26 /home/vollrath/Indonesia_sm/cleaned_station_data/33.BRG_620801_02.pickle\n",
      "27 /home/vollrath/Indonesia_sm/cleaned_station_data/61.BRG_630611_01.pickle\n",
      "28 /home/vollrath/Indonesia_sm/cleaned_station_data/16.BRG_610207_02.pickle\n",
      "29 /home/vollrath/Indonesia_sm/cleaned_station_data/37.BRG_621103_02.pickle\n",
      "30 /home/vollrath/Indonesia_sm/cleaned_station_data/26.BRG_611206_01.pickle\n",
      "31 /home/vollrath/Indonesia_sm/cleaned_station_data/77.brg18.pickle\n",
      "32 /home/vollrath/Indonesia_sm/cleaned_station_data/10.BRG_150710_02.pickle\n",
      "33 /home/vollrath/Indonesia_sm/cleaned_station_data/82.brg5.pickle\n",
      "34 /home/vollrath/Indonesia_sm/cleaned_station_data/48.BRG_621107_04.pickle\n",
      "35 /home/vollrath/Indonesia_sm/cleaned_station_data/62.BRG_630708_01.pickle\n",
      "36 /home/vollrath/Indonesia_sm/cleaned_station_data/70.batok2.pickle\n",
      "37 /home/vollrath/Indonesia_sm/cleaned_station_data/66.BRG_630805_02.pickle\n",
      "38 /home/vollrath/Indonesia_sm/cleaned_station_data/57.BRG_627104_04.pickle\n",
      "39 /home/vollrath/Indonesia_sm/cleaned_station_data/4.BRG_150611_02.pickle\n",
      "40 /home/vollrath/Indonesia_sm/cleaned_station_data/79.brg20.pickle\n",
      "41 /home/vollrath/Indonesia_sm/cleaned_station_data/2.BRG_150604_02.pickle\n",
      "42 /home/vollrath/Indonesia_sm/cleaned_station_data/24.BRG_611203_01.pickle\n",
      "43 /home/vollrath/Indonesia_sm/cleaned_station_data/68.BRG_910111_01.pickle\n",
      "44 /home/vollrath/Indonesia_sm/cleaned_station_data/50.BRG_621107_06.pickle\n",
      "45 /home/vollrath/Indonesia_sm/cleaned_station_data/63.BRG_630801_01.pickle\n",
      "46 /home/vollrath/Indonesia_sm/cleaned_station_data/71.brg11.pickle\n",
      "47 /home/vollrath/Indonesia_sm/cleaned_station_data/85.jambi1.pickle\n",
      "48 /home/vollrath/Indonesia_sm/cleaned_station_data/59.BRG_627104_06.pickle\n",
      "49 /home/vollrath/Indonesia_sm/cleaned_station_data/69.batok1.pickle\n",
      "50 /home/vollrath/Indonesia_sm/cleaned_station_data/84.ij2.pickle\n",
      "51 /home/vollrath/Indonesia_sm/cleaned_station_data/9.BRG_150710_01.pickle\n",
      "52 /home/vollrath/Indonesia_sm/cleaned_station_data/41.BRG_621103_06.pickle\n",
      "53 /home/vollrath/Indonesia_sm/cleaned_station_data/43.BRG_621105_02.pickle\n",
      "54 /home/vollrath/Indonesia_sm/cleaned_station_data/64.BRG_630804_01.pickle\n",
      "55 /home/vollrath/Indonesia_sm/cleaned_station_data/22.BRG_611201_01.pickle\n",
      "56 /home/vollrath/Indonesia_sm/cleaned_station_data/21.BRG_611102_02.pickle\n",
      "57 /home/vollrath/Indonesia_sm/cleaned_station_data/52.BRG_621107_08.pickle\n",
      "58 /home/vollrath/Indonesia_sm/cleaned_station_data/55.BRG_627104_02.pickle\n",
      "59 /home/vollrath/Indonesia_sm/cleaned_station_data/13.BRG_610102_02.pickle\n",
      "60 /home/vollrath/Indonesia_sm/cleaned_station_data/73.brg13.pickle\n",
      "61 /home/vollrath/Indonesia_sm/cleaned_station_data/8.BRG_150709_02.pickle\n",
      "62 /home/vollrath/Indonesia_sm/cleaned_station_data/58.BRG_627104_05.pickle\n",
      "63 /home/vollrath/Indonesia_sm/cleaned_station_data/5.BRG_150613_01.pickle\n",
      "64 /home/vollrath/Indonesia_sm/cleaned_station_data/40.BRG_621103_05.pickle\n",
      "65 /home/vollrath/Indonesia_sm/cleaned_station_data/60.BRG_630411_01.pickle\n",
      "66 /home/vollrath/Indonesia_sm/cleaned_station_data/42.BRG_621105_01.pickle\n",
      "67 /home/vollrath/Indonesia_sm/cleaned_station_data/25.BRG_611203_02.pickle\n",
      "68 /home/vollrath/Indonesia_sm/cleaned_station_data/14.BRG_610117_01.pickle\n",
      "69 /home/vollrath/Indonesia_sm/cleaned_station_data/20.BRG_611102_01.pickle\n",
      "70 /home/vollrath/Indonesia_sm/cleaned_station_data/51.BRG_621107_07.pickle\n",
      "71 /home/vollrath/Indonesia_sm/cleaned_station_data/7.BRG_150709_01.pickle\n",
      "72 /home/vollrath/Indonesia_sm/cleaned_station_data/72.brg12.pickle\n",
      "73 /home/vollrath/Indonesia_sm/cleaned_station_data/12.BRG_610102_01.pickle\n",
      "74 /home/vollrath/Indonesia_sm/cleaned_station_data/54.BRG_627104_01.pickle\n",
      "75 /home/vollrath/Indonesia_sm/cleaned_station_data/6.BRG_150706_01.pickle\n",
      "76 /home/vollrath/Indonesia_sm/cleaned_station_data/31.BRG_620309_02.pickle\n",
      "77 /home/vollrath/Indonesia_sm/cleaned_station_data/17.BRG_610208_01.pickle\n",
      "78 /home/vollrath/Indonesia_sm/cleaned_station_data/18.BRG_610216_01.pickle\n",
      "79 /home/vollrath/Indonesia_sm/cleaned_station_data/44.BRG_621105_03.pickle\n",
      "80 /home/vollrath/Indonesia_sm/cleaned_station_data/1.BRG_150604_01.pickle\n",
      "81 /home/vollrath/Indonesia_sm/cleaned_station_data/3.BRG_150611_01.pickle\n",
      "82 /home/vollrath/Indonesia_sm/cleaned_station_data/65.BRG_630805_01.pickle\n",
      "83 /home/vollrath/Indonesia_sm/cleaned_station_data/23.BRG_611202_01.pickle\n",
      "84 /home/vollrath/Indonesia_sm/cleaned_station_data/74.brg14.pickle\n",
      "85 /home/vollrath/Indonesia_sm/cleaned_station_data/56.BRG_627104_03.pickle\n"
     ]
    }
   ],
   "source": [
    "for i, file in enumerate(Path(f'/home/vollrath/Indonesia_sm/cleaned_station_data/').glob(f'*pickle')):\n",
    "    print(i, file)\n",
    "    if i == 0:\n",
    "        d = pd.read_pickle(file)\n",
    "    else:\n",
    "        d = d.append(pd.read_pickle(file))\n",
    "    \n",
    "    "
   ]
  },
  {
   "cell_type": "code",
   "execution_count": 407,
   "metadata": {},
   "outputs": [],
   "source": [
    "d.to_pickle('/home/vollrath/Indonesia_sm/cleaned_station_data/cleaned_field_stations.pickle')"
   ]
  },
  {
   "cell_type": "markdown",
   "metadata": {},
   "source": [
    "### some additonal code following, not important"
   ]
  },
  {
   "cell_type": "code",
   "execution_count": 242,
   "metadata": {},
   "outputs": [
    {
     "data": {
      "text/plain": [
       "<AxesSubplot:xlabel='index'>"
      ]
     },
     "execution_count": 242,
     "metadata": {},
     "output_type": "execute_result"
    },
    {
     "data": {
      "image/png": "[encoded data removed]",
      "text/plain": [
       "<Figure size 936x936 with 1 Axes>"
      ]
     },
     "metadata": {
      "needs_background": "light"
     },
     "output_type": "display_data"
    }
   ],
   "source": [
    "\n",
    "from pathlib import Path\n",
    "i = 54\n",
    "d = pd.read_pickle(list(Path(f'/home/vollrath/Indonesia_sm/cleaned_station_data/').glob(f'{i}*pickle'))[0])\n",
    "d['GWL_rata'].plot()"
   ]
  },
  {
   "cell_type": "code",
   "execution_count": null,
   "metadata": {},
   "outputs": [],
   "source": [
    "stat_high = stations.stasiun[(stations['corr_sm'] >= 0.5)]\n",
    "#df_no_nans = df_no_nans[df_no_nans.station.isin(stat_high)].copy()\n",
    "\n",
    "for province in df_no_nans.province.unique():\n",
    "    \n",
    "    df_to_plot = df_no_nans[df_no_nans.province == province]\n",
    "    sns.set(font_scale = 2)\n",
    "    ax = sns.boxplot(x='station', y='SM_rata', data=df_to_plot)\n",
    "    plt.xticks(rotation=45, horizontalalignment='right', fontsize='small')\n",
    "    plt.yticks(horizontalalignment='right', fontsize='small')\n",
    "    plt.title(province)\n",
    "    plt.savefig(f'/home/vollrath/Indonesia_sm/figures/groundstations/sm/{province}.png')\n",
    "    plt.close()\n",
    "    "
   ]
  },
  {
   "cell_type": "code",
   "execution_count": null,
   "metadata": {},
   "outputs": [],
   "source": [
    "df_no_nans.to_date"
   ]
  },
  {
   "cell_type": "code",
   "execution_count": null,
   "metadata": {},
   "outputs": [],
   "source": [
    "df_no_nans['index'] = pd.to_datetime(df_no_nans['index'])\n",
    "df_no_nans = df_no_nans.set_index('index').dropna()"
   ]
  },
  {
   "cell_type": "code",
   "execution_count": null,
   "metadata": {},
   "outputs": [],
   "source": [
    "df_no_nans.GWL_rata[df_no_nans.station == 'BRG_621103_05'].plot()"
   ]
  },
  {
   "cell_type": "code",
   "execution_count": null,
   "metadata": {},
   "outputs": [],
   "source": [
    "stations[(stations['corr_sm'] >= 0.5)].sort_values('corr_gwl', ascending=False)"
   ]
  },
  {
   "cell_type": "code",
   "execution_count": null,
   "metadata": {},
   "outputs": [],
   "source": []
  }
 ],
 "metadata": {
  "kernelspec": {
   "display_name": "Python 3",
   "language": "python",
   "name": "python3"
  },
  "language_info": {
   "codemirror_mode": {
    "name": "ipython",
    "version": 3
   },
   "file_extension": ".py",
   "mimetype": "text/x-python",
   "name": "python",
   "nbconvert_exporter": "python",
   "pygments_lexer": "ipython3",
   "version": "3.6.9"
  }
 },
 "nbformat": 4,
 "nbformat_minor": 4
}
