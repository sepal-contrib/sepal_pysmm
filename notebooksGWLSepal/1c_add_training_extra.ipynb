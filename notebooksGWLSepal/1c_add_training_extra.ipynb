{
 "cells": [
  {
   "cell_type": "code",
   "execution_count": 7,
   "metadata": {},
   "outputs": [],
   "source": [
    "import sys\n",
    "from pathlib import Path\n",
    "import time\n",
    "import numpy as np\n",
    "import pandas as pd\n",
    "import geopandas as gpd\n",
    "from tqdm import tqdm\n",
    "from eeSAR.s1 import s1_collection, s1_timescan\n",
    "from datetime import datetime as dt, timedelta\n",
    "import ee\n",
    "ee.Initialize()"
   ]
  },
  {
   "cell_type": "code",
   "execution_count": 2,
   "metadata": {},
   "outputs": [
    {
     "data": {
      "text/plain": [
       "2928"
      ]
     },
     "execution_count": 2,
     "metadata": {},
     "output_type": "execute_result"
    }
   ],
   "source": [
    "# this is our file with tscan, srtm, landcover, gldas and gpm already sampled\n",
    "gdf = gpd.read_file('/home/vollrath/Indonesia_sm/samples_s1_aux/gdf_s1_aux.gpkg')\n",
    "len(gdf)"
   ]
  },
  {
   "cell_type": "code",
   "execution_count": 3,
   "metadata": {},
   "outputs": [],
   "source": [
    "def addExtra(image):\n",
    "    \n",
    "    def addGEDI(image):\n",
    "        \n",
    "        gedi = ee.ImageCollection('users/potapovpeter/GEDI_V27').mosaic().clip(image.geometry().bounds()).rename('canopy_height')\n",
    "        \n",
    "        return image.addBands(gedi)\n",
    "    \n",
    "    \n",
    "    def addHansen(image):\n",
    "        \n",
    "\n",
    "        coll_dict = {\n",
    "            '2012': ee.Image(\"UMD/hansen/global_forest_change_2012_v1_0\"),\n",
    "            '2013': ee.Image(\"UMD/hansen/global_forest_change_2013_v1_1\"),\n",
    "            '2014': ee.Image(\"UMD/hansen/global_forest_change_2014_v1_2\"),\n",
    "            '2015': ee.Image(\"UMD/hansen/global_forest_change_2015_v1_3\"),\n",
    "            '2016': ee.Image(\"UMD/hansen/global_forest_change_2016_v1_4\"),\n",
    "            '2017': ee.Image(\"UMD/hansen/global_forest_change_2017_v1_5\"),\n",
    "            '2018': ee.Image(\"UMD/hansen/global_forest_change_2018_v1_6\"),\n",
    "            '2019': ee.Image(\"UMD/hansen/global_forest_change_2019_v1_7\"),\n",
    "        }\n",
    "        \n",
    "        year = image.getInfo()['properties']['system:index'][17:21]\n",
    "        year = '2019' if year == '2020' else year\n",
    "        \n",
    "        hansen = coll_dict[year]\n",
    "        \n",
    "        b3 = hansen.select(['last_b30'], ['B3'])\n",
    "        b4 = hansen.select(['last_b40'], ['B4'])\n",
    "        b5 = hansen.select(['last_b50'], ['B5'])\n",
    "        b7 = hansen.select(['last_b70'], ['B7'])\n",
    "        \n",
    "        ndvi = (b4.subtract(b3)).divide(b4.add(b3)).rename('ndvi')\n",
    "        ndmi = (b4.subtract(b5)).divide(b4.add(b5)).rename('ndmi')\n",
    "        ndbri = (b4.subtract(b7)).divide(b4.add(b7)).rename('ndbri')\n",
    "        \n",
    "        return image.addBands(b3).addBands(b4).addBands(b5).addBands(b7).addBands(ndvi).addBands(ndmi).addBands(ndbri)\n",
    "                              \n",
    "    \n",
    "    image = addGEDI(image)\n",
    "    image = addHansen(image)\n",
    "    \n",
    "    return image"
   ]
  },
  {
   "cell_type": "code",
   "execution_count": 4,
   "metadata": {},
   "outputs": [],
   "source": [
    "def get_Aux(i, row):\n",
    "    \n",
    "    point = ee.Geometry.Point(row.lon, row.lat)\n",
    "    \n",
    "    # get the image\n",
    "    s1 = ee.ImageCollection('COPERNICUS/S1_GRD_FLOAT')\\\n",
    "        .filter(ee.Filter.eq('system:index', row['scene_id'])).first()\n",
    "\n",
    "    image = addExtra(s1)\n",
    "    \n",
    "    image_red = image.reduceRegion(\n",
    "        reducer=ee.Reducer.toList(),\\\n",
    "        geometry=point.buffer(150),\\\n",
    "        maxPixels=1e13,\\\n",
    "        scale=100\n",
    "    );\n",
    "\n",
    "    data_dict = image_red.getInfo()\n",
    "\n",
    "    bandlist = [\n",
    "     #'VV', 'VH', 'VVVH_ratio', 'angle', 'LIA', #'layover', 'shadow', 'no_data_mask', \n",
    "     #'precipitation', 'prec_3', 'prec_7', 'prec_30', \n",
    "     #'gldas_mean', 'gldas_stddev',\n",
    "     #'sm_1', 'sm_3', 'sm_7', 'sm_30',\n",
    "     #'elevation', 'aspect', 'slope', \n",
    "     #'landcover',\n",
    "     #'kVV_mean', 'kVV_stdDev', 'kVV_p5', 'kVV_p95', 'kVH_mean', 'kVH_stdDev', 'kVH_p5', 'kVH_p95', \n",
    "     #'VV_mean', 'VV_stdDev', 'VV_p5', 'VV_p95', 'VH_mean', 'VH_stdDev', 'VH_p5', 'VH_p95',\n",
    "     'canopy_height',\n",
    "     'B7', 'B5', 'B4', 'B3', 'ndvi', 'ndmi', 'ndbri'\n",
    "    ]\n",
    "\n",
    "    for band in bandlist:\n",
    "        if band == 'landcover':\n",
    "            counts = np.bincount(data_dict[band])\n",
    "            row[band] = np.argmax(counts)\n",
    "        else:\n",
    "            row[band] = np.mean(data_dict[band])\n",
    "\n",
    "    d = {}\n",
    "    d[i] = row\n",
    "    df = pd.DataFrame.from_dict(d, orient='index')\n",
    "    df.to_pickle(f'/home/vollrath/Indonesia_sm/samples_extra/{i}.extra.pickle')"
   ]
  },
  {
   "cell_type": "code",
   "execution_count": 5,
   "metadata": {},
   "outputs": [
    {
     "name": "stdout",
     "output_type": "stream",
     "text": [
      "processed: 2927: 100%|██████████| 2928/2928 [1:23:51<00:00,  1.72s/it]\n"
     ]
    }
   ],
   "source": [
    "from multiprocessing import Process\n",
    "j = 0\n",
    "with tqdm(initial=j, total=len(gdf), file=sys.stdout) as pbar:\n",
    "    for i, row in gdf.iterrows():\n",
    "        \n",
    "        if i >= j:\n",
    "        \n",
    "            ec = None\n",
    "            while ec is None != 0:\n",
    "                p1 = Process(target=get_Aux, args=(i, row, ), name='Process')\n",
    "                p1.start()\n",
    "                p1.join(timeout=180)\n",
    "                p1.terminate()\n",
    "                ec = p1.exitcode\n",
    "\n",
    "            pbar.set_description('processed: %d' % (i))\n",
    "            pbar.update(1)"
   ]
  },
  {
   "cell_type": "code",
   "execution_count": 8,
   "metadata": {},
   "outputs": [],
   "source": [
    "for i, file in enumerate(Path('/home/vollrath/Indonesia_sm/samples_extra/').glob('*.extra.pickle')):\n",
    "#    print(file)\n",
    "    if i == 0:\n",
    "        df = pd.read_pickle(file)\n",
    "    else:\n",
    "        df = pd.concat([df, pd.read_pickle(file)])"
   ]
  },
  {
   "cell_type": "code",
   "execution_count": 9,
   "metadata": {},
   "outputs": [
    {
     "name": "stdout",
     "output_type": "stream",
     "text": [
      "2928\n",
      "2928\n"
     ]
    }
   ],
   "source": [
    "df_no_nans = df.dropna()\n",
    "print(len(df))\n",
    "print(len(df_no_nans))\n",
    "gdf = gpd.GeoDataFrame(df_no_nans, geometry=gpd.points_from_xy(df_no_nans.lon, df_no_nans.lat))\n",
    "gdf.to_file('/home/vollrath/Indonesia_sm/samples_extra/gdf_s1_extra.gpkg', driver='GPKG')"
   ]
  },
  {
   "cell_type": "code",
   "execution_count": 12,
   "metadata": {},
   "outputs": [
    {
     "data": {
      "text/plain": [
       "Index(['station', 'index', 'location', 'province', 'lon', 'lat', 'GWL_max',\n",
       "       'GWL_min', 'GWL_rata', 'SM_max', 'SM_min', 'SM_rata', 'Total',\n",
       "       'scene_id', 'ee_time', 'ee_geom', 'orbit_direction', 'acq_date', 'VV',\n",
       "       'VH', 'VVVH_ratio', 'angle', 'LIA', 'elevation', 'aspect', 'slope',\n",
       "       'landcover', 'kVV_mean', 'kVV_stdDev', 'kVV_p5', 'kVV_p95', 'kVH_mean',\n",
       "       'kVH_stdDev', 'kVH_p5', 'kVH_p95', 'VV_mean', 'VV_stdDev', 'VV_p5',\n",
       "       'VV_p95', 'VH_mean', 'VH_stdDev', 'VH_p5', 'VH_p95', 'precipitation',\n",
       "       'prec_3', 'prec_7', 'prec_30', 'sm_1', 'sm_3', 'sm_7', 'sm_30',\n",
       "       'geometry', 'canopy_height', 'B7', 'B5', 'B4', 'B3', 'ndvi', 'ndmi',\n",
       "       'ndbri'],\n",
       "      dtype='object')"
      ]
     },
     "execution_count": 12,
     "metadata": {},
     "output_type": "execute_result"
    }
   ],
   "source": [
    "gdf.columns"
   ]
  },
  {
   "cell_type": "code",
   "execution_count": null,
   "metadata": {},
   "outputs": [],
   "source": []
  }
 ],
 "metadata": {
  "kernelspec": {
   "display_name": "Python 3",
   "language": "python",
   "name": "python3"
  },
  "language_info": {
   "codemirror_mode": {
    "name": "ipython",
    "version": 3
   },
   "file_extension": ".py",
   "mimetype": "text/x-python",
   "name": "python",
   "nbconvert_exporter": "python",
   "pygments_lexer": "ipython3",
   "version": "3.6.9"
  }
 },
 "nbformat": 4,
 "nbformat_minor": 4
}
