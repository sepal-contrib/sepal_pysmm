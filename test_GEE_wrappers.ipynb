{
 "cells": [
  {
   "cell_type": "code",
   "execution_count": 1,
   "metadata": {},
   "outputs": [
    {
     "data": {
      "text/html": [
       "<style>/*******************************************************************************\n",
       " * Customization of the provided css from the different libs used by sepal_ui\n",
       " */\n",
       "\n",
       "/* replace the map panel elements on top */\n",
       ".leaflet-pane,\n",
       ".leaflet-top,\n",
       ".leaflet-bottom {\n",
       "  z-index: 2 !important;\n",
       "}\n",
       "\n",
       "/* remove the shadow from the widgets on the maps */\n",
       ".leaflet-widgetcontrol {\n",
       "  box-shadow: none;\n",
       "}\n",
       "\n",
       "/* remove extra padding on top of the content */\n",
       "main.v-content {\n",
       "  padding-top: 0px !important;\n",
       "}\n",
       "\n",
       "/* remove all the backgrounds from the controls and widget to be colored naturelly by the map */\n",
       ".leaflet-control-container .vuetify-styles .v-application {\n",
       "  background: rgb(0, 0, 0, 0);\n",
       "}\n",
       ".v-alert__wrapper .progress {\n",
       "  background-color: transparent;\n",
       "}\n",
       "\n",
       "/* set the bar on top of the map (800) when set to fullscreen */\n",
       "header.v-app-bar {\n",
       "  z-index: 800 !important;\n",
       "}\n",
       "\n",
       "/* set the menu_content on top of the map when it's set to fullscreen */\n",
       ".v-menu__content {\n",
       "  max-width: 100% !important;\n",
       "}\n",
       "\n",
       "/* make sure navigation drawers are always visibles when they exist */\n",
       "nav.v-navigation-drawer {\n",
       "  z-index: 900 !important;\n",
       "}\n",
       "\n",
       "/* create extra position for the leaflet map controls */\n",
       ".leaflet-center {\n",
       "  left: 50%;\n",
       "  transform: translate(-50%, 0%);\n",
       "}\n",
       "\n",
       ".leaflet-middle {\n",
       "  top: 50%;\n",
       "  position: absolute;\n",
       "  z-index: 1000;\n",
       "  pointer-events: none;\n",
       "  transform: translate(0%, -50%);\n",
       "}\n",
       "\n",
       ".leaflet-center.leaflet-middle {\n",
       "  transform: translate(-50%, -50%);\n",
       "}\n",
       "\n",
       "/* create extra classes to customize the layer_control table */\n",
       ".v-no-hover:hover {\n",
       "  background-color: transparent !important;\n",
       "}\n",
       "\n",
       ".v-no-border tbody tr td,\n",
       ".v-no-border tbody tr th {\n",
       "  border: none !important;\n",
       "}\n",
       "\n",
       "/* extra css rules to make the messages disapear beneath the SimpleSlider */\n",
       ".v-no-messages .v-messages {\n",
       "  display: none;\n",
       "}\n",
       "\n",
       ".v-no-messages .v-input__slot {\n",
       "  margin-bottom: 0;\n",
       "}\n",
       "\n",
       "/* specific css for the btn placed on maps */\n",
       ".v-btn.v-size--default.v-map-btn:not(.v-btn--round) {\n",
       "  padding: 0px;\n",
       "  min-width: 0px;\n",
       "  width: 30px;\n",
       "  height: 30px;\n",
       "}\n",
       "\n",
       "/* add specific css for the zoom btn of the map */\n",
       ".v-btn.v-zoom-plus {\n",
       "  border-bottom-left-radius: 0;\n",
       "  border-bottom-right-radius: 0;\n",
       "}\n",
       "\n",
       ".v-btn.v-zoom-minus {\n",
       "  margin-top: -1px;\n",
       "  border-top-left-radius: 0;\n",
       "  border-top-right-radius: 0;\n",
       "}\n",
       "\n",
       "/* css rules for fullscreen menus */\n",
       ".v-card.v-menu-fullscreen {\n",
       "  width: calc(100vw - 80px);\n",
       "  height: calc(100vh - 20px);\n",
       "}\n",
       "</style>"
      ],
      "text/plain": [
       "<IPython.core.display.HTML object>"
      ]
     },
     "metadata": {},
     "output_type": "display_data"
    },
    {
     "data": {
      "text/html": [
       "<link rel=\"stylesheet\" href=\"https://cdnjs.cloudflare.com/ajax/libs/font-awesome/6.2.1/css/all.min.css\"/>"
      ],
      "text/plain": [
       "<IPython.core.display.HTML object>"
      ]
     },
     "metadata": {},
     "output_type": "display_data"
    },
    {
     "data": {
      "application/javascript": "/*******************************************************************************\n * remove any links from fontawesome 5 created by jupyter in favor of\n * fontawesome 6. to be removed when Jupyter updates it\n */\n\nfunction remove_fa5() {\n  links = document.querySelectorAll(\n    \"link[href^='https://cdn.jsdelivr.net/npm/@fortawesome/fontawesome-free@^5']\"\n  );\n\n  links.forEach((link) => link.remove());\n}\n\nif (document.readyState != \"loading\") remove_fa5();\nelse document.addEventListener(\"DOMContentLoader\", remove_fa5());\n",
      "text/plain": [
       "<IPython.core.display.Javascript object>"
      ]
     },
     "metadata": {},
     "output_type": "display_data"
    }
   ],
   "source": [
    "import ee\n",
    "from component.scripts.GEE_wrappers import GEE_extent\n",
    "from component.scripts.derive_SM import create_out_name\n",
    "ee.Initialize()"
   ]
  },
  {
   "cell_type": "code",
   "execution_count": 2,
   "metadata": {},
   "outputs": [],
   "source": [
    "def export_sm(image, file_name):\n",
    "    description = f\"fileexp_{file_name}\"\n",
    "\n",
    "    task = ee.batch.Export.image.toDrive(\n",
    "        image=image.__getattribute__(\"ESTIMATED_SM\"),\n",
    "        description=description,\n",
    "        fileNamePrefix=file_name,\n",
    "        scale=150,\n",
    "        region=image.roi.getInfo()[\"coordinates\"],\n",
    "        maxPixels=1e13,\n",
    "    )\n",
    "    task.start()\n",
    "    return task, file_name"
   ]
  },
  {
   "cell_type": "code",
   "execution_count": 3,
   "metadata": {},
   "outputs": [
    {
     "data": {
      "text/plain": [
       "7"
      ]
     },
     "execution_count": 3,
     "metadata": {},
     "output_type": "execute_result"
    }
   ],
   "source": [
    "test_coords_chips = [\n",
    "[101.81744576590408, 0.2869119197606414, 102.30001067617684, 0.669037480331793], [102.30001067617683, 0.16903270683388336, 102.80001067617683, 0.669037480331793], [102.80001067617683, 0.30066643754335914, 103.1085784557263, 0.6690364871822352], [101.80001067617683, 0.6690311121559859, 102.30001067617684, 1.169040066354326], [102.30001067617684, 0.6690311121559859, 102.80001067617684, 0.935023369243529], [102.80001067617683, 0.6690311121559859, 102.95128286303692, 0.7397827247042105], [102.16045110331572, 1.1690378684394913, 102.20857581471485, 1.2306851406088202]]\n",
    "len(test_coords_chips)"
   ]
  },
  {
   "cell_type": "code",
   "execution_count": 5,
   "metadata": {},
   "outputs": [],
   "source": [
    "chip_to_test = 3"
   ]
  },
  {
   "cell_type": "code",
   "execution_count": 7,
   "metadata": {},
   "outputs": [],
   "source": [
    "# get GEE interface\n",
    "GEE_interface = GEE_extent(*test_coords_chips[chip_to_test])\n",
    "\n",
    "# retrieve S1\n",
    "GEE_interface.get_S1(\n",
    "    2022,\n",
    "    1,\n",
    "    9,\n",
    "    tempfilter=True,\n",
    "    applylcmask=False,\n",
    "    mask_globcover=True,\n",
    "    masksnow=False,\n",
    "    ascending=False,\n",
    ")\n",
    "\n",
    "# retrieve GLDAS\n",
    "GEE_interface.get_gldas()\n",
    "\n",
    "if GEE_interface.GLDAS_IMG is not None:\n",
    "    outname = create_out_name(\n",
    "        GEE_interface.S1_DATE.year,\n",
    "        GEE_interface.S1_DATE.month,\n",
    "        GEE_interface.S1_DATE.day,\n",
    "        \"test_image\" + f\"chip_{chip_to_test}\",\n",
    "    )\n",
    "\n",
    "    # get Globcover\n",
    "    GEE_interface.get_globcover()\n",
    "\n",
    "    # get the SRTM\n",
    "    GEE_interface.get_terrain()\n",
    "\n",
    "    # Estimate soil moisture\n",
    "    GEE_interface.estimate_SM()"
   ]
  },
  {
   "cell_type": "code",
   "execution_count": 8,
   "metadata": {},
   "outputs": [],
   "source": [
    "scale = 100\n",
    "task = ee.batch.Export.image.toDrive(\n",
    "    image=GEE_interface.__getattribute__(\"ESTIMATED_SM\"),\n",
    "    description=f\"{outname}_{scale}\",\n",
    "    fileNamePrefix=f\"{outname}_{scale}\",\n",
    "    scale=scale,\n",
    "    region=GEE_interface.roi.getInfo()[\"coordinates\"],\n",
    "    maxPixels=1e13,\n",
    ")\n",
    "task.start()"
   ]
  }
 ],
 "metadata": {
  "kernelspec": {
   "display_name": "Python 3",
   "language": "python",
   "name": "python3"
  },
  "language_info": {
   "codemirror_mode": {
    "name": "ipython",
    "version": 3
   },
   "file_extension": ".py",
   "mimetype": "text/x-python",
   "name": "python",
   "nbconvert_exporter": "python",
   "pygments_lexer": "ipython3",
   "version": "3.10.6"
  },
  "orig_nbformat": 4
 },
 "nbformat": 4,
 "nbformat_minor": 2
}
