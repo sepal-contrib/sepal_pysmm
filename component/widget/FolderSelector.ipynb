{
 "cells": [
  {
   "cell_type": "code",
   "execution_count": 18,
   "id": "3692f0c7-d20d-498a-a486-3754eb1be82b",
   "metadata": {},
   "outputs": [],
   "source": [
    "import ipyvuetify as v\n",
    "from traitlets import Bool, link, List, observe\n",
    "from pathlib import Path\n",
    "from natsort import humansorted\n",
    "import sepal_ui.scripts.utils as su\n",
    "from sepal_ui.frontend.styles import *"
   ]
  },
  {
   "cell_type": "code",
   "execution_count": 112,
   "id": "3558269d-ec5f-481d-91cb-e95214e4e8c1",
   "metadata": {},
   "outputs": [],
   "source": [
    "class ListItem(v.Flex):\n",
    "    \n",
    "    # Workaround: It has to be a container: using directly a ListItem\n",
    "    # will cause that the checkbox is inside the ListItem,\n",
    "    # So, a item will be selected when the checkbox is checked.\n",
    "    \n",
    "    is_selected = Bool().tag(sync=True)\n",
    "    \n",
    "    def __init__(self, value, position, *args, **kwargs):\n",
    "        \n",
    "        self.value = value\n",
    "        self.class_='d-flex'\n",
    "        value = Path(value)\n",
    "        \n",
    "        super().__init__(*args, **kwargs)\n",
    "        \n",
    "        selected = v.Checkbox(v_model=False)\n",
    "        \n",
    "        if position == 0:\n",
    "            icon = ICON_TYPES['PARENT'][\"icon\"]\n",
    "            color = ICON_TYPES['PARENT'][\"color\"]\n",
    "        elif value.suffix in ICON_TYPES.keys():\n",
    "            icon = ICON_TYPES[value.suffix][\"icon\"]\n",
    "            color = ICON_TYPES[value.suffix][\"color\"]\n",
    "        else:\n",
    "            icon = ICON_TYPES[\"DEFAULT\"][\"icon\"]\n",
    "            color = ICON_TYPES[\"DEFAULT\"][\"color\"]      \n",
    "\n",
    "        self.children = [\n",
    "            \n",
    "            v.ListItem(children=[\n",
    "                v.ListItemAction(\n",
    "                    children=[\n",
    "                        v.Icon(color=color, children=[icon])\n",
    "                    ]),\n",
    "                v.ListItemContent(\n",
    "                    children=[v.ListItemTitle(children=[str(value.stem)]),]\n",
    "                )\n",
    "            ]),\n",
    "            selected,\n",
    "        ]\n",
    "        link((selected, 'v_model'), (self, 'is_selected'))"
   ]
  },
  {
   "cell_type": "code",
   "execution_count": 113,
   "id": "fa40d5ad-a32c-4cd9-8507-7036e60caebc",
   "metadata": {},
   "outputs": [],
   "source": [
    "class ListItemGroup(v.ListItemGroup):\n",
    "    \n",
    "    selected = List([]).tag(sync=None)\n",
    "    \n",
    "    def __init__(self, children, *args, **kwargs):\n",
    "        \n",
    "        self.v_model=None\n",
    "        \n",
    "        super().__init__(*args, **kwargs)\n",
    "        \n",
    "        self.children = children\n",
    "        # Observe childrens\n",
    "        [item.observe(self.set_selected, 'is_selected') for item in self.children]\n",
    "    \n",
    "    def set_selected(self, change):\n",
    "        self.selected = [(chld.value) for chld in self.children if chld.is_selected]\n"
   ]
  },
  {
   "cell_type": "code",
   "execution_count": 114,
   "id": "642ba974-af3b-4d2a-a427-a830e2ea35a4",
   "metadata": {},
   "outputs": [],
   "source": [
    "class FolderSelector(v.Flex):\n",
    "    \n",
    "    def __init__(self, *args, **kwargs):\n",
    "        \n",
    "        self.folders = None\n",
    "        \n",
    "        super().__init__(*args, **kwargs)\n",
    "        \n",
    "        self.loading = v.ProgressLinear(\n",
    "            indeterminate=False,\n",
    "            background_color=\"grey darken-3\",\n",
    "            color=COMPONENTS[\"PROGRESS_BAR\"][\"color\"],\n",
    "        )\n",
    "        \n",
    "        self.get_folder_group(Path('~').expanduser())\n",
    "        self.children = [\n",
    "            self.loading,\n",
    "            self.item_group\n",
    "        ]\n",
    "        \n",
    "    def get_folder_group(self, path):\n",
    "\n",
    "        self.folders = humansorted([\n",
    "            str(folder) for folder in Path(path).glob(\"*/\") \n",
    "            if (folder.is_dir() and not folder.name.startswith('.'))\n",
    "        ])\n",
    "        self.folders = [str(Path(path).parent)] + self.folders\n",
    "        \n",
    "        # Each time we have to create a ListItemGroup to have fresh\n",
    "        # selected items\n",
    "        self.item_group = ListItemGroup(\n",
    "            children= [\n",
    "                ListItem(value=folder, position=i) for i, folder in enumerate(self.folders)\n",
    "            ]\n",
    "        )\n",
    "    \n",
    "        self.item_group.observe(self.on_folder, 'v_model')\n",
    "    \n",
    "    @su.switch('indeterminate', on_widgets=['loading'])\n",
    "    def on_folder(self, change):\n",
    "\n",
    "        self.get_folder_group(self.folders[change['new']])\n",
    "        self.children = [\n",
    "            self.loading,\n",
    "            self.item_group\n",
    "        ]\n",
    "    \n"
   ]
  },
  {
   "cell_type": "code",
   "execution_count": 115,
   "id": "abe3efa1-5344-4906-94fa-783f5cf76500",
   "metadata": {},
   "outputs": [],
   "source": [
    "folder_selector = FolderSelector()"
   ]
  },
  {
   "cell_type": "code",
   "execution_count": 116,
   "id": "c057b3cd-def9-481f-9aef-2843a26e2fd0",
   "metadata": {},
   "outputs": [
    {
     "data": {
      "application/vnd.jupyter.widget-view+json": {
       "model_id": "825eb56864704c9dbe250155ee40d387",
       "version_major": 2,
       "version_minor": 0
      },
      "text/plain": [
       "FolderSelector(children=[ProgressLinear(background_color='grey darken-3', color='indigo', indeterminate=False)…"
      ]
     },
     "metadata": {},
     "output_type": "display_data"
    }
   ],
   "source": [
    "folder_selector"
   ]
  },
  {
   "cell_type": "code",
   "execution_count": 117,
   "id": "f30d5741-ee72-4e73-b653-2f7b3ca494eb",
   "metadata": {},
   "outputs": [
    {
     "data": {
      "text/plain": [
       "['/home/dguerrero/module_results/planet-order/COL_Antioquia_Alejandria',\n",
       " '/home/dguerrero/module_results/planet-order/COL_Antioquia_Amalfi',\n",
       " '/home/dguerrero/module_results/planet-order/COL_Antioquia_Cocorna',\n",
       " '/home/dguerrero/module_results/planet-order/COL_Arauca',\n",
       " '/home/dguerrero/module_results/planet-order/COL_Boyaca_Garagoa',\n",
       " '/home/dguerrero/module_results/planet-order/COL_Cundinamarca_Agua_de_Dios',\n",
       " '/home/dguerrero/module_results/planet-order/Manual_2021-03-26_13-22-00',\n",
       " '/home/dguerrero/module_results/planet-order/Manual_2021-04-21_15-04-34']"
      ]
     },
     "execution_count": 117,
     "metadata": {},
     "output_type": "execute_result"
    }
   ],
   "source": [
    "folder_selector.item_group.selected"
   ]
  },
  {
   "cell_type": "code",
   "execution_count": null,
   "id": "eea90075-84b4-4d11-8c6d-fcbe6e2b9797",
   "metadata": {},
   "outputs": [],
   "source": []
  }
 ],
 "metadata": {
  "kernelspec": {
   "display_name": "Python 3",
   "language": "python",
   "name": "python3"
  },
  "language_info": {
   "codemirror_mode": {
    "name": "ipython",
    "version": 3
   },
   "file_extension": ".py",
   "mimetype": "text/x-python",
   "name": "python",
   "nbconvert_exporter": "python",
   "pygments_lexer": "ipython3",
   "version": "3.8.10"
  }
 },
 "nbformat": 4,
 "nbformat_minor": 5
}
