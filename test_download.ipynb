{
 "cells": [
  {
   "cell_type": "code",
   "execution_count": 13,
   "metadata": {
    "tags": []
   },
   "outputs": [
    {
     "name": "stdout",
     "output_type": "stream",
     "text": [
      "The autoreload extension is already loaded. To reload it, use:\n",
      "  %reload_ext autoreload\n"
     ]
    }
   ],
   "source": [
    "%load_ext autoreload\n",
    "%autoreload 2"
   ]
  },
  {
   "cell_type": "code",
   "execution_count": 14,
   "metadata": {
    "tags": []
   },
   "outputs": [],
   "source": [
    "import sepal_ui.sepalwidgets as sw\n",
    "from component.widget.count_span import CountSpan\n",
    "import component.parameter.directory as dir_\n",
    "from pathlib import Path\n",
    "import ipyvuetify as v\n",
    "\n",
    "from component.scripts.google_handler import ImageDownloader\n",
    "from component.scripts.taks_controller import TaskController"
   ]
  },
  {
   "cell_type": "code",
   "execution_count": 15,
   "metadata": {
    "tags": []
   },
   "outputs": [
    {
     "data": {
      "application/vnd.jupyter.widget-view+json": {
       "model_id": "2c96847d004e443fa1c06998ce409443",
       "version_major": 2,
       "version_minor": 0
      },
      "text/plain": [
       "Layout(children=[Btn(children=['Start task'], layout=None, loading=False), Btn(children=['Stop task'], layout=…"
      ]
     },
     "metadata": {},
     "output_type": "display_data"
    }
   ],
   "source": [
    "start_button = v.Btn(children=['Start task'], loading=False)\n",
    "stop_button = v.Btn(children=['Stop task'])\n",
    "\n",
    "\n",
    "alert = sw.Alert().show()\n",
    "status_span = sw.Html(tag=\"span\", children=[])\n",
    "success_span = CountSpan(\"success\", color=\"success\")\n",
    "error_span = CountSpan(\"error\", color=\"error\", with_total=False)\n",
    "running_span = CountSpan(\"running\", color=\"warning\", with_total=False)\n",
    "\n",
    "alert.children = [status_span, success_span, error_span, running_span]\n",
    "\n",
    "# get latest .csv task file created in dir_.RAW_DIR\n",
    "task_file = \"/home/sepal-user/module_results/pysmm_downloads/0_raw/riau_phu/ALL/task_20230420_111805.txt\"\n",
    "overwrite = True\n",
    "remove_from_drive = False\n",
    "\n",
    "\n",
    "downloader = ImageDownloader(\n",
    "    task_file, overwrite, remove_from_drive, alert, status_span, success_span, error_span, running_span\n",
    ")\n",
    "\n",
    "task_controller = TaskController(start_button, stop_button, downloader.download_to_sepal)\n",
    "\n",
    "\n",
    "start_button.on_event(\"click\", lambda *args: task_controller.start_task())\n",
    "\n",
    "v.Layout(class_=\"d-block\",\n",
    "children=[start_button, stop_button, alert, success_span, error_span, running_span])\n"
   ]
  },
  {
   "cell_type": "code",
   "execution_count": 16,
   "metadata": {
    "tags": []
   },
   "outputs": [
    {
     "data": {
      "application/vnd.jupyter.widget-view+json": {
       "model_id": "fa2f9321d03b44df9457a4718f600203",
       "version_major": 2,
       "version_minor": 0
      },
      "text/plain": [
       "Html(children=['asdfasl;dkfjas'], layout=None, tag='span')"
      ]
     },
     "metadata": {},
     "output_type": "display_data"
    }
   ],
   "source": []
  },
  {
   "cell_type": "code",
   "execution_count": 7,
   "metadata": {
    "tags": []
   },
   "outputs": [],
   "source": [
    "status_span.children=[\"klsajdflaskdjf\"]"
   ]
  }
 ],
 "metadata": {
  "kernelspec": {
   "display_name": "Python 3",
   "language": "python",
   "name": "python3"
  },
  "language_info": {
   "codemirror_mode": {
    "name": "ipython",
    "version": 3
   },
   "file_extension": ".py",
   "mimetype": "text/x-python",
   "name": "python",
   "nbconvert_exporter": "python",
   "pygments_lexer": "ipython3",
   "version": "3.8.10"
  }
 },
 "nbformat": 4,
 "nbformat_minor": 4
}
