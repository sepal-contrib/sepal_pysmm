{
 "cells": [
  {
   "cell_type": "code",
   "execution_count": null,
   "metadata": {
    "tags": []
   },
   "outputs": [],
   "source": [
    "import sepal_ui.sepalwidgets as sw\n",
    "\n",
    "from component.model import Model\n",
    "\n",
    "import component.tiles.process_tile as pt\n",
    "import component.tiles.download_tile as dt\n",
    "import component.tiles.filter_tile as ft\n",
    "import component.tiles.statistics_tile as st\n",
    "import component.tiles.map_tile as mt\n",
    "from component.widget.custom_drawer import DrawerItem, NavDrawer"
   ]
  },
  {
   "cell_type": "code",
   "execution_count": null,
   "metadata": {},
   "outputs": [],
   "source": [
    "model = Model()"
   ]
  },
  {
   "cell_type": "code",
   "execution_count": null,
   "metadata": {},
   "outputs": [],
   "source": [
    "process_tile = pt.ProcessTile(model=model)"
   ]
  },
  {
   "cell_type": "code",
   "execution_count": null,
   "metadata": {},
   "outputs": [],
   "source": [
    "download_tile = dt.DownloadTile()"
   ]
  },
  {
   "cell_type": "code",
   "execution_count": null,
   "metadata": {},
   "outputs": [],
   "source": [
    "filter_tile = ft.FilterTile()"
   ]
  },
  {
   "cell_type": "code",
   "execution_count": null,
   "metadata": {},
   "outputs": [],
   "source": [
    "statistic_tile = st.StatisticsTile(model=model)"
   ]
  },
  {
   "cell_type": "code",
   "execution_count": null,
   "metadata": {},
   "outputs": [],
   "source": [
    "map_tile = mt.MapTile()"
   ]
  },
  {
   "cell_type": "code",
   "execution_count": null,
   "metadata": {},
   "outputs": [],
   "source": [
    "app_bar = sw.AppBar(title='Sepal Soil Moisture Mapping')"
   ]
  },
  {
   "cell_type": "code",
   "execution_count": null,
   "metadata": {},
   "outputs": [],
   "source": [
    "%run 'about_ui.ipynb'"
   ]
  },
  {
   "cell_type": "code",
   "execution_count": null,
   "metadata": {
    "tags": []
   },
   "outputs": [],
   "source": [
    "content = [\n",
    "    process_tile,\n",
    "    download_tile,\n",
    "    filter_tile,\n",
    "    statistic_tile,\n",
    "    map_tile,\n",
    "    disclaimer_tile\n",
    "]"
   ]
  },
  {
   "cell_type": "code",
   "execution_count": null,
   "metadata": {},
   "outputs": [],
   "source": [
    "# Create drawers\n",
    "items = [\n",
    "    DrawerItem('Data', 'mdi-map-marker-check', card=\"process\").display_tile(content),\n",
    "    DrawerItem('Download', 'mdi-download', card=\"download\").display_tile(content),\n",
    "    DrawerItem('Filter', 'mdi-auto-fix', card=\"filter\").display_tile(content),\n",
    "    DrawerItem('Statistics', 'mdi-sigma', card=\"statistics\").display_tile(content),\n",
    "    DrawerItem('Map', 'mdi-map', card=\"map\").display_tile(content),\n",
    "    DrawerItem('About', 'mdi-help-circle', card=\"about_tile\").display_tile(content),\n",
    "]"
   ]
  },
  {
   "cell_type": "code",
   "execution_count": null,
   "metadata": {},
   "outputs": [],
   "source": [
    "code_link = 'https://github.com/openforis/sepal_pysmm'\n",
    "wiki_link = 'https://docs.sepal.io/en/latest/modules/dwn/sepal_pysmm.html'\n",
    "issue = 'https://github.com/openforis/sepal_pysmm/issues/new'"
   ]
  },
  {
   "cell_type": "code",
   "execution_count": null,
   "metadata": {},
   "outputs": [],
   "source": [
    "app_drawer = NavDrawer(\n",
    "    items = items, \n",
    "    code  = code_link, \n",
    "    wiki  = wiki_link, \n",
    "    issue = issue\n",
    ").display_drawer(app_bar.toggle_button)"
   ]
  },
  {
   "cell_type": "code",
   "execution_count": null,
   "metadata": {},
   "outputs": [],
   "source": [
    "app = sw.App(\n",
    "    tiles    = content, \n",
    "    appBar   = app_bar, \n",
    "    navDrawer= app_drawer\n",
    ").show_tile('process').add_banner(msg=\"We apologize for any inconvenience caused by the current issues with the composite/mosaicking step in the statistics tab. We are actively working to resolve the problem and will fix it as soon as possible. January 23rd, 2023.\", type_='warning', id_=None, persistent=False)"
   ]
  },
  {
   "cell_type": "code",
   "execution_count": null,
   "metadata": {},
   "outputs": [],
   "source": [
    "app.navDrawer"
   ]
  },
  {
   "cell_type": "code",
   "execution_count": null,
   "metadata": {},
   "outputs": [],
   "source": [
    "app"
   ]
  }
 ],
 "metadata": {
  "kernelspec": {
   "display_name": "(test) test-sepal_pysmm",
   "language": "python",
   "name": "test-sepal_pysmm"
  },
  "language_info": {
   "codemirror_mode": {
    "name": "ipython",
    "version": 3
   },
   "file_extension": ".py",
   "mimetype": "text/x-python",
   "name": "python",
   "nbconvert_exporter": "python",
   "pygments_lexer": "ipython3",
   "version": "3.8.10"
  }
 },
 "nbformat": 4,
 "nbformat_minor": 4
}
