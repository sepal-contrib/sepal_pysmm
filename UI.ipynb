{
 "cells": [
  {
   "cell_type": "code",
   "execution_count": null,
   "metadata": {
    "scrolled": false
   },
   "outputs": [],
   "source": [
    "from sepal_ui import widgetFactory as wf\n",
    "from sepal_ui import widgetBinding as wb"
   ]
  },
  {
   "cell_type": "code",
   "execution_count": null,
   "metadata": {},
   "outputs": [],
   "source": [
    "fao_appBar, fao_toggleButton = wf.AppBar('Soil Moisture Mapping')\n",
    "fao_footer = wf.Footer('pysmm module')"
   ]
  },
  {
   "cell_type": "code",
   "execution_count": null,
   "metadata": {},
   "outputs": [],
   "source": [
    "%run 'process_UI.ipynb'\n",
    "%run 'download_UI.ipynb'\n",
    "%run 'filter_UI.ipynb'\n",
    "%run 'statistics_UI.ipynb'\n",
    "%run 'map_UI.ipynb'"
   ]
  },
  {
   "cell_type": "code",
   "execution_count": null,
   "metadata": {},
   "outputs": [],
   "source": [
    "fao_content = [process_tile, download_tile, filter_tile, statistics_tile, map_tile]"
   ]
  },
  {
   "cell_type": "code",
   "execution_count": null,
   "metadata": {},
   "outputs": [],
   "source": [
    "wf.hideCards('aoi_tile', fao_content)"
   ]
  },
  {
   "cell_type": "code",
   "execution_count": null,
   "metadata": {},
   "outputs": [],
   "source": [
    "#create a drawer \n",
    "item_process = wf.DrawerItem('AOI selection', 'mdi-map-marker-check', card=\"aoi_tile\")\n",
    "item_download = wf.DrawerItem('Download', 'mdi-download', card=\"download_tile\")\n",
    "item_filter = wf.DrawerItem('Closing filter', 'mdi-auto-fix', card=\"filter_tile\")\n",
    "item_statistics = wf.DrawerItem('Calculate statistics', 'mdi-sigma', card=\"statistics_tile\")\n",
    "item_map = wf.DrawerItem('Display map', 'mdi-map', card=\"map_tile\")\n",
    "\n",
    "code_link = 'https://github.com/openforis/sepal_pysmm'\n",
    "wiki_link = 'https://docs.sepal.io/en/latest/modules/dwn/sepal_pysmm.html'\n",
    "issue = 'https://github.com/openforis/sepal_pysmm/issues/new'\n",
    "\n",
    "items = [item_process, item_download, item_filter, item_statistics, item_map]\n",
    "fao_drawer = wf.NavDrawer(items, code = code_link, wiki = wiki_link, issue = issue)"
   ]
  },
  {
   "cell_type": "code",
   "execution_count": null,
   "metadata": {},
   "outputs": [],
   "source": [
    "#build the app \n",
    "pysmm_app = wf.App(\n",
    "    tiles=fao_content, \n",
    "    appBar=fao_appBar, \n",
    "    navDrawer=fao_drawer\n",
    ")[0]"
   ]
  },
  {
   "cell_type": "code",
   "execution_count": null,
   "metadata": {},
   "outputs": [],
   "source": [
    "#bind the components together\n",
    "wb.displayDrawer(fao_drawer, fao_toggleButton) #drawer \n",
    "for item in items:                        #drawer clickable buttons\n",
    "    wb.display_tile(item, fao_content)"
   ]
  },
  {
   "cell_type": "code",
   "execution_count": null,
   "metadata": {
    "scrolled": false
   },
   "outputs": [],
   "source": [
    "#display the app\n",
    "pysmm_app"
   ]
  }
 ],
 "metadata": {
  "kernelspec": {
   "display_name": "Python 3",
   "language": "python",
   "name": "python3"
  },
  "language_info": {
   "codemirror_mode": {
    "name": "ipython",
    "version": 3
   },
   "file_extension": ".py",
   "mimetype": "text/x-python",
   "name": "python",
   "nbconvert_exporter": "python",
   "pygments_lexer": "ipython3",
   "version": "3.6.9"
  }
 },
 "nbformat": 4,
 "nbformat_minor": 4
}
