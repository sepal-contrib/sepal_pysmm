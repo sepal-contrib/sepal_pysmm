{
 "cells": [
  {
   "cell_type": "code",
   "execution_count": null,
   "metadata": {
    "tags": []
   },
   "outputs": [],
   "source": [
    "import sepal_ui.sepalwidgets as sw\n",
    "\n",
    "from component.model import Model\n",
    "\n",
    "import component.tiles.process_tile as pt\n",
    "import component.tiles.download_tile as dt\n",
    "import component.tiles.filter_tile as ft\n",
    "import component.tiles.statistics_tile as st\n",
    "import component.tiles.map_tile as mt"
   ]
  },
  {
   "cell_type": "code",
   "execution_count": null,
   "metadata": {},
   "outputs": [],
   "source": [
    "model = Model()"
   ]
  },
  {
   "cell_type": "code",
   "execution_count": null,
   "metadata": {},
   "outputs": [],
   "source": [
    "process_tile = pt.ProcessTile(model=model)"
   ]
  },
  {
   "cell_type": "code",
   "execution_count": null,
   "metadata": {},
   "outputs": [],
   "source": [
    "download_tile = dt.DownloadTile()"
   ]
  },
  {
   "cell_type": "code",
   "execution_count": null,
   "metadata": {},
   "outputs": [],
   "source": [
    "filter_tile = ft.FilterTile()"
   ]
  },
  {
   "cell_type": "code",
   "execution_count": null,
   "metadata": {},
   "outputs": [],
   "source": [
    "statistic_tile = st.StatisticsTile(model=model)"
   ]
  },
  {
   "cell_type": "code",
   "execution_count": null,
   "metadata": {},
   "outputs": [],
   "source": [
    "map_tile = mt.MapTile()"
   ]
  },
  {
   "cell_type": "code",
   "execution_count": null,
   "metadata": {},
   "outputs": [],
   "source": [
    "app_bar = sw.AppBar(title=\"Sepal Soil Moisture Mapping\")"
   ]
  },
  {
   "cell_type": "code",
   "execution_count": null,
   "metadata": {},
   "outputs": [],
   "source": [
    "about_tile = sw.TileAbout(\"utils/ABOUT.md\")\n",
    "disclaimer_tile = sw.TileDisclaimer()"
   ]
  },
  {
   "cell_type": "code",
   "execution_count": null,
   "metadata": {
    "tags": []
   },
   "outputs": [],
   "source": [
    "content = [\n",
    "    process_tile,\n",
    "    download_tile,\n",
    "    filter_tile,\n",
    "    statistic_tile,\n",
    "    map_tile,\n",
    "    disclaimer_tile,\n",
    "]"
   ]
  },
  {
   "cell_type": "code",
   "execution_count": null,
   "metadata": {},
   "outputs": [],
   "source": [
    "# Create drawers\n",
    "items = [\n",
    "    sw.DrawerItem(\"Data\", \"mdi-map-marker-check\", card=\"process\").display_tile(content),\n",
    "    sw.DrawerItem(\"Download\", \"mdi-download\", card=\"download\").display_tile(content),\n",
    "    sw.DrawerItem(\"Filter\", \"mdi-auto-fix\", card=\"filter\").display_tile(content),\n",
    "    sw.DrawerItem(\"Statistics\", \"mdi-sigma\", card=\"statistics\").display_tile(content),\n",
    "    sw.DrawerItem(\"Map\", \"mdi-map\", card=\"map\").display_tile(content),\n",
    "    sw.DrawerItem(\"About\", \"mdi-help-circle\", card=\"about_tile\").display_tile(content),\n",
    "]"
   ]
  },
  {
   "cell_type": "code",
   "execution_count": null,
   "metadata": {},
   "outputs": [],
   "source": [
    "code_link = \"https://github.com/sepal-contrib/sepal_pysmm\"\n",
    "wiki_link = \"https://docs.sepal.io/en/latest/modules/dwn/sepal_pysmm.html\"\n",
    "issue = \"https://github.com/sepal-contrib/sepal_pysmm/issues/new\""
   ]
  },
  {
   "cell_type": "code",
   "execution_count": null,
   "metadata": {},
   "outputs": [],
   "source": [
    "app_drawer = sw.NavDrawer(\n",
    "    items=items, code=code_link, wiki=wiki_link, issue=issue\n",
    ").display_drawer(app_bar.toggle_button)"
   ]
  },
  {
   "cell_type": "code",
   "execution_count": null,
   "metadata": {},
   "outputs": [],
   "source": [
    "app = sw.App(tiles=content, appBar=app_bar, navDrawer=app_drawer).show_tile(\"process\")"
   ]
  },
  {
   "cell_type": "code",
   "execution_count": null,
   "metadata": {},
   "outputs": [],
   "source": [
    "app"
   ]
  }
 ],
 "metadata": {
  "kernelspec": {
   "display_name": " (venv) Soil Moisture Mapping",
   "language": "python",
   "name": "venv-sepal_pysmm"
  },
  "language_info": {
   "codemirror_mode": {
    "name": "ipython",
    "version": 3
   },
   "file_extension": ".py",
   "mimetype": "text/x-python",
   "name": "python",
   "nbconvert_exporter": "python",
   "pygments_lexer": "ipython3",
   "version": "3.10.12"
  }
 },
 "nbformat": 4,
 "nbformat_minor": 4
}
